{
  "nbformat": 4,
  "nbformat_minor": 0,
  "metadata": {
    "colab": {
      "provenance": [],
      "authorship_tag": "ABX9TyMSGFqYGwXzR9X5PPr2S513",
      "include_colab_link": true
    },
    "kernelspec": {
      "name": "python3",
      "display_name": "Python 3"
    },
    "language_info": {
      "name": "python"
    }
  },
  "cells": [
    {
      "cell_type": "markdown",
      "metadata": {
        "id": "view-in-github",
        "colab_type": "text"
      },
      "source": [
        "<a href=\"https://colab.research.google.com/github/Shoaib7218/python_problems/blob/main/python_questions.ipynb\" target=\"_parent\"><img src=\"https://colab.research.google.com/assets/colab-badge.svg\" alt=\"Open In Colab\"/></a>"
      ]
    },
    {
      "cell_type": "markdown",
      "source": [
        "#What i learned while solving  this questions is that -\n",
        "* Numpy arrays cannot be used for dsa as we cannot assign them a fixed size\n",
        "* Obviously they are not made for DSA they are made mathematical oprations and merging multiple arrays into one array\n",
        "* We cannot assign a fixed size but we can use a np.zeros([2,2]) function to give it a size and later on we can change the values  \n",
        "* reshape function does not change the shape of the same array it just returns a new array so that we can see it in multiple dimensions it returns a new array of anorther shape but not the same array\n",
        "* if we are using a value inside a loop block but not inside the loop statement\n",
        " we must increment or decreament it\n",
        "\n",
        " * for eg\n",
        " * for i in range(array3d.shape[0]):\n",
        " *  for j in range(array3d.shape[1]):\n",
        " *   for k in range(array3d.shape[2]):\n",
        " *     array1d[s]=array3d[i][j][k]\n",
        " *     s=s+1\n",
        "*print(array1d)\n",
        "\n",
        "#here we are using s in the block but not in the statement"
      ],
      "metadata": {
        "id": "Etz5_aTqXt7R"
      }
    },
    {
      "cell_type": "markdown",
      "source": [
        "\n",
        "#List\n",
        "1.   Create a list containing the first 10 even numbers.\n",
        "2. Extract the elements at indices 3, 5, and 7 from the list you created in\n",
        "question 1. Then, extract a sublist containing elements from index 2 to 5\n",
        "(inclusive).\n",
        "3. Concatenate the list from question 1 with a list containing the first 5 odd\n",
        "numbers. Then, repeat the concatenated list 3 times.\n",
        "4. Create a list of squares of numbers from 1 to 10 using list comprehension.\n",
        "5. Add the number 12 to the end of the list from question 1. Then, remove\n",
        "the first element from the list.\n",
        "6. Reverse the order of elements in the list from question 1.\n",
        "7. Sort the list from question 1 in ascending order.\n",
        "8. Find the index of the first occurrence of the number 8 in the list from\n",
        "question 1.\n",
        "9. Create a nested list containing the names of fruits, vegetables, and grains.\n",
        "10. Use the append, insert, pop, and remove methods to modify the nested list\n",
        "from question 9.\n",
        "11. Create an alias of the list from question 1. Then, create a copy of the list.\n",
        "Modify the original list and observe the changes in the alias and copy.\n",
        "12. Create a list of even numbers from 1 to 20 using list comprehension,\n",
        "including a condition to filter out odd numbers.\n",
        "13. Unpack a list containing three elements into three variables.\n",
        "14. Create a list of every third element from a given list using slicing with a\n",
        "step.\n",
        "15. Iterate over a list using a for loop and print each element\n",
        "\n",
        "\n",
        "\n"
      ],
      "metadata": {
        "id": "-GMXp7mhtNbB"
      }
    },
    {
      "cell_type": "code",
      "execution_count": null,
      "metadata": {
        "colab": {
          "base_uri": "https://localhost:8080/"
        },
        "id": "2lxyMowcju9N",
        "outputId": "3f83403b-58e4-44ae-b1a0-bc0e9dbaadf7"
      },
      "outputs": [
        {
          "output_type": "stream",
          "name": "stdout",
          "text": [
            "[0, 2, 4, 6, 8, 10]\n"
          ]
        }
      ],
      "source": [
        "l1 = []\n",
        "\n",
        "for i in range(0,11):\n",
        "  if i%2==0:\n",
        "    l1[len(l1):]=[i] # Append Function # always add an iterable values for eg[i],[4] # core skill\n",
        "print(l1)"
      ]
    },
    {
      "cell_type": "code",
      "source": [
        "t,f,s = l1[3],l1[4],l1[5]\n",
        "\n",
        "print(t,f,s)"
      ],
      "metadata": {
        "colab": {
          "base_uri": "https://localhost:8080/"
        },
        "id": "HKw9oZuNz9BJ",
        "outputId": "78b32f71-80ce-465b-cfe9-f63ebbb67613"
      },
      "execution_count": null,
      "outputs": [
        {
          "output_type": "stream",
          "name": "stdout",
          "text": [
            "6 8 10\n"
          ]
        }
      ]
    },
    {
      "cell_type": "code",
      "source": [
        "odd = [1,3,5,7,9]\n",
        "\n",
        "con = l1+odd\n",
        "\n",
        "con*=3\n",
        "print(con)"
      ],
      "metadata": {
        "colab": {
          "base_uri": "https://localhost:8080/"
        },
        "id": "_ajPTJD8uFFW",
        "outputId": "8401231f-e8c1-4a1b-db62-d681275684a8"
      },
      "execution_count": null,
      "outputs": [
        {
          "output_type": "stream",
          "name": "stdout",
          "text": [
            "[0, 2, 4, 6, 8, 10, 1, 3, 5, 7, 9, 0, 2, 4, 6, 8, 10, 1, 3, 5, 7, 9, 0, 2, 4, 6, 8, 10, 1, 3, 5, 7, 9]\n"
          ]
        }
      ]
    },
    {
      "cell_type": "code",
      "source": [
        "square = [i**2 for i in range(1,11)]\n",
        "print(square)"
      ],
      "metadata": {
        "colab": {
          "base_uri": "https://localhost:8080/"
        },
        "id": "EypZ99QJ6TtF",
        "outputId": "714df391-9cbd-45a7-89e4-379ce717f55a"
      },
      "execution_count": null,
      "outputs": [
        {
          "output_type": "stream",
          "name": "stdout",
          "text": [
            "[1, 4, 9, 16, 25, 36, 49, 64, 81, 100]\n"
          ]
        }
      ]
    },
    {
      "cell_type": "code",
      "source": [
        "l1[len(l1):] = [12]\n",
        "print(l1)\n",
        "\n",
        "del l1[0]\n",
        "print(l1)"
      ],
      "metadata": {
        "colab": {
          "base_uri": "https://localhost:8080/"
        },
        "id": "d94b_Zao6fqN",
        "outputId": "a8a7c741-f309-404a-b86a-799c51019a39"
      },
      "execution_count": null,
      "outputs": [
        {
          "output_type": "stream",
          "name": "stdout",
          "text": [
            "[2, 4, 6, 8, 10, 12, 12, 12, 12]\n",
            "[4, 6, 8, 10, 12, 12, 12, 12]\n"
          ]
        }
      ]
    },
    {
      "cell_type": "code",
      "source": [
        "l2 = l1[::-1]\n",
        "print(l2)"
      ],
      "metadata": {
        "colab": {
          "base_uri": "https://localhost:8080/"
        },
        "id": "Axng_ImF638i",
        "outputId": "ab257415-6b14-4bff-bd4e-2149581a0331"
      },
      "execution_count": null,
      "outputs": [
        {
          "output_type": "stream",
          "name": "stdout",
          "text": [
            "[12, 12, 12, 12, 10, 8, 6, 4]\n"
          ]
        }
      ]
    },
    {
      "cell_type": "code",
      "source": [
        "l1 = [1,3,4,2]\n",
        "\n",
        "for i in range(len(l1)):\n",
        "  for j in range(i+1,len(l1)):\n",
        "    if l1[i]>l1[j]:\n",
        "      temp = 0\n",
        "      temp = l1[i]\n",
        "      l1[i] = l1[j]\n",
        "      l1[j] = temp\n",
        "print(l1)\n",
        "\n"
      ],
      "metadata": {
        "colab": {
          "base_uri": "https://localhost:8080/"
        },
        "id": "LVlBoPuB7DeL",
        "outputId": "d8d44bd3-65fa-4300-b5cb-753214f4dd16"
      },
      "execution_count": null,
      "outputs": [
        {
          "output_type": "stream",
          "name": "stdout",
          "text": [
            "[1, 2, 3, 4]\n"
          ]
        }
      ]
    },
    {
      "cell_type": "code",
      "source": [
        "l1 = [1,2,3,8,5,6,7,8]\n",
        "\n",
        "for i in range(len(l1)):\n",
        "  if l1[i] == 8:\n",
        "    print(i)\n",
        "    break\n",
        "\n"
      ],
      "metadata": {
        "colab": {
          "base_uri": "https://localhost:8080/"
        },
        "id": "Pm8cRNGN8u4z",
        "outputId": "6f704069-2f93-42ac-8116-62ab21ac0bc7"
      },
      "execution_count": null,
      "outputs": [
        {
          "output_type": "stream",
          "name": "stdout",
          "text": [
            "3\n"
          ]
        }
      ]
    },
    {
      "cell_type": "code",
      "source": [
        "grocery = [[\"Apple\",\"Banana\"],[\"Bhaaji\",\"Paala\"],[\"Daal\",\"Daane\"]]\n",
        "\n",
        "print(grocery)\n"
      ],
      "metadata": {
        "colab": {
          "base_uri": "https://localhost:8080/"
        },
        "id": "Sl9aKTh5-fjc",
        "outputId": "dfdb9957-d4bc-4895-f8e5-71949f0cc6ac"
      },
      "execution_count": null,
      "outputs": [
        {
          "output_type": "stream",
          "name": "stdout",
          "text": [
            "[['Apple', 'Banana'], ['Bhaaji', 'Paala'], ['Daal', 'Daane']]\n"
          ]
        }
      ]
    },
    {
      "cell_type": "code",
      "source": [
        "grocery[0].append(\"Fal\")\n",
        "print(grocery)"
      ],
      "metadata": {
        "colab": {
          "base_uri": "https://localhost:8080/"
        },
        "id": "kQp7x8-1-piw",
        "outputId": "17c110f4-3152-4fcb-c7b2-d245d74ebab2"
      },
      "execution_count": null,
      "outputs": [
        {
          "output_type": "stream",
          "name": "stdout",
          "text": [
            "[['Apple', 'Banana', 'Fal'], ['Bhaaji', 'Paala', 'Fal', 'Fal'], ['Daal', 'Daane']]\n"
          ]
        }
      ]
    },
    {
      "cell_type": "code",
      "source": [
        "li = l1\n",
        "lc=[]\n",
        "lc=l1.copy()\n",
        "print(lc,l1)\n",
        "l1.append(10)\n",
        "print(lc,l1)\n",
        "\n",
        "# in the alias there are no changes made but in the copy tthe changes are made"
      ],
      "metadata": {
        "colab": {
          "base_uri": "https://localhost:8080/"
        },
        "id": "WEELZlKbADDD",
        "outputId": "8b320633-ff23-4503-f4e5-745bb35130c9"
      },
      "execution_count": null,
      "outputs": [
        {
          "output_type": "stream",
          "name": "stdout",
          "text": [
            "[1, 2, 3, 8, 5, 6, 7, 8] [1, 2, 3, 8, 5, 6, 7, 8]\n",
            "[1, 2, 3, 8, 5, 6, 7, 8] [1, 2, 3, 8, 5, 6, 7, 8, 10]\n"
          ]
        }
      ]
    },
    {
      "cell_type": "code",
      "source": [
        "odd=[]\n",
        "even  = [i for i in range(1,21) if i%2==0]\n",
        "print(even)\n",
        "\n",
        "\n"
      ],
      "metadata": {
        "colab": {
          "base_uri": "https://localhost:8080/"
        },
        "id": "6Z5D84eyFXNm",
        "outputId": "f5f2dfc7-4447-426d-fd33-480096d01a11"
      },
      "execution_count": null,
      "outputs": [
        {
          "output_type": "stream",
          "name": "stdout",
          "text": [
            "[2, 4, 6, 8, 10, 12, 14, 16, 18, 20]\n"
          ]
        }
      ]
    },
    {
      "cell_type": "code",
      "source": [
        "l1 =[1,2,3]\n",
        "a,b,c=l1\n",
        "print(a,b,c)"
      ],
      "metadata": {
        "colab": {
          "base_uri": "https://localhost:8080/"
        },
        "id": "dw3XliZzGOD3",
        "outputId": "ec7351aa-3a64-4a59-f354-f665c3c2804a"
      },
      "execution_count": null,
      "outputs": [
        {
          "output_type": "stream",
          "name": "stdout",
          "text": [
            "1 2 3\n"
          ]
        }
      ]
    },
    {
      "cell_type": "code",
      "source": [
        "l1=[1,2,3,4,5,6,7,8,8,9,0]\n",
        "l2=[]\n",
        "\n",
        "for i in range(len(l1)):\n",
        "  l2[:len(l2)]=l1[::3]\n",
        "\n",
        "print(l2)\n"
      ],
      "metadata": {
        "colab": {
          "base_uri": "https://localhost:8080/"
        },
        "id": "D7N1poy3GWQr",
        "outputId": "8f274ee1-48ac-414d-fd5f-d921d6be0803"
      },
      "execution_count": null,
      "outputs": [
        {
          "output_type": "stream",
          "name": "stdout",
          "text": [
            "[1, 4, 7, 9]\n"
          ]
        }
      ]
    },
    {
      "cell_type": "code",
      "source": [
        "for i in l1:\n",
        "  print(i)"
      ],
      "metadata": {
        "colab": {
          "base_uri": "https://localhost:8080/"
        },
        "id": "KqQRKhl0G9j-",
        "outputId": "877a1e54-66c1-4fbe-ce59-e158b7ad73d5"
      },
      "execution_count": null,
      "outputs": [
        {
          "output_type": "stream",
          "name": "stdout",
          "text": [
            "1\n",
            "2\n",
            "3\n",
            "4\n",
            "5\n",
            "6\n",
            "7\n",
            "8\n",
            "8\n",
            "9\n",
            "0\n"
          ]
        }
      ]
    },
    {
      "cell_type": "markdown",
      "source": [
        "\n",
        "# 15 Practical Questions on Tuples in Python\n",
        "1. Creating Tuples:\n",
        "\n",
        "* Create a tuple containing the numbers 1, 2, and 3.\n",
        "* Create a tuple containing a string, an integer, and a float.\n",
        "* Create an empty tuple.\n",
        "2. Accessing Elements:\n",
        "* Access the first element of the tuple you created in question 1.\n",
        "* Access the last element of the tuple.\n",
        "* Access the elements from index 1 to 3 (inclusive).\n",
        "3. Slicing Tuples:\n",
        "* Create a new tuple containing the elements from index 2 to the end\n",
        "of an existing tuple.\n",
        "* Create a new tuple containing every other element of an existing\n",
        "tuple.\n",
        "4. Concatenating Tuples:\n",
        "* Concatenate two tuples together to create a new tuple.\n",
        "5. Multiplying Tuples:\n",
        "* Multiply a tuple by 3 to create a new tuple with repeated elements.\n",
        "6. Finding the Length of a Tuple:\n",
        "* Find the number of elements in a given tuple.\n",
        "7. Checking for Membership:\n",
        "* Check if a particular value is present in a tuple.\n",
        "8. Finding the Index of an Element:\n",
        "* Find the index of the first occurrence of a value in a tuple.\n",
        "9. Counting Occurrences:\n",
        "* Count the number of times a value appears in a tuple.\n",
        "10. Unpacking Tuples:\n",
        "* Assign the elements of a tuple to individual variables.\n",
        "11. Storing Coordinates:\n",
        "* Create a tuple to store the coordinates of a point in 2D space.\n",
        "12. Representing Colors:\n",
        "* Create a tuple to represent the RGB values of a color.\n",
        "13. Storing Student Information:\n",
        "* Create a tuple to store a student's name, age, and grades.\n",
        "\n"
      ],
      "metadata": {
        "id": "ZHWRIFVEnWgA"
      }
    },
    {
      "cell_type": "code",
      "source": [
        "t1 = (1,2,3)\n",
        "t2 = (\"shoaib\",1,1.0)\n",
        "t3 =tuple()"
      ],
      "metadata": {
        "colab": {
          "base_uri": "https://localhost:8080/"
        },
        "id": "6aWSAcYlncuC",
        "outputId": "5f3115b4-7fe1-4bc3-d758-fa8b0b0a31cd"
      },
      "execution_count": null,
      "outputs": [
        {
          "output_type": "stream",
          "name": "stdout",
          "text": [
            "()\n"
          ]
        }
      ]
    },
    {
      "cell_type": "code",
      "source": [
        "el1 = t1[0]\n",
        "l2 = t1[-1]\n",
        "print(t1[1:3])\n",
        "print(l2)\n"
      ],
      "metadata": {
        "colab": {
          "base_uri": "https://localhost:8080/"
        },
        "id": "0FSgdGI0ocg9",
        "outputId": "ee716efd-a6ab-432f-a194-33e8260a7a74"
      },
      "execution_count": null,
      "outputs": [
        {
          "output_type": "stream",
          "name": "stdout",
          "text": [
            "(2, 3)\n",
            "3\n"
          ]
        }
      ]
    },
    {
      "cell_type": "code",
      "source": [
        "t1 = (1,2,3,4,5,6,7,8,9)\n",
        "\n",
        "t2 = t1[2:-1]\n",
        "print(t2)"
      ],
      "metadata": {
        "colab": {
          "base_uri": "https://localhost:8080/"
        },
        "id": "hgCEFhxYo-nm",
        "outputId": "92ef2579-5107-4438-acbf-f26304364da1"
      },
      "execution_count": null,
      "outputs": [
        {
          "output_type": "stream",
          "name": "stdout",
          "text": [
            "(3, 4, 5, 6, 7, 8)\n"
          ]
        }
      ]
    },
    {
      "cell_type": "code",
      "source": [
        "t3=t1[::2]\n",
        "t3"
      ],
      "metadata": {
        "colab": {
          "base_uri": "https://localhost:8080/"
        },
        "id": "GikSyYA4pKq5",
        "outputId": "879bac43-fce3-499e-8fe7-cb248f48ef97"
      },
      "execution_count": null,
      "outputs": [
        {
          "output_type": "execute_result",
          "data": {
            "text/plain": [
              "(1, 3, 5, 7, 9)"
            ]
          },
          "metadata": {},
          "execution_count": 13
        }
      ]
    },
    {
      "cell_type": "code",
      "source": [
        "t4 = t1+t3\n",
        "t4"
      ],
      "metadata": {
        "colab": {
          "base_uri": "https://localhost:8080/"
        },
        "id": "xCUO28bdpZH2",
        "outputId": "2af0e271-e7d4-4dd6-ef53-152aa62b737d"
      },
      "execution_count": null,
      "outputs": [
        {
          "output_type": "execute_result",
          "data": {
            "text/plain": [
              "(1, 2, 3, 4, 5, 6, 7, 8, 9, 1, 3, 5, 7, 9)"
            ]
          },
          "metadata": {},
          "execution_count": 14
        }
      ]
    },
    {
      "cell_type": "code",
      "source": [
        "t5 = t4*3\n",
        "t5\n"
      ],
      "metadata": {
        "colab": {
          "base_uri": "https://localhost:8080/"
        },
        "id": "9kSTf1QOqCm-",
        "outputId": "668b711a-3d54-4406-f00c-eec354c0e7d4"
      },
      "execution_count": null,
      "outputs": [
        {
          "output_type": "execute_result",
          "data": {
            "text/plain": [
              "(1,\n",
              " 2,\n",
              " 3,\n",
              " 4,\n",
              " 5,\n",
              " 6,\n",
              " 7,\n",
              " 8,\n",
              " 9,\n",
              " 1,\n",
              " 3,\n",
              " 5,\n",
              " 7,\n",
              " 9,\n",
              " 1,\n",
              " 2,\n",
              " 3,\n",
              " 4,\n",
              " 5,\n",
              " 6,\n",
              " 7,\n",
              " 8,\n",
              " 9,\n",
              " 1,\n",
              " 3,\n",
              " 5,\n",
              " 7,\n",
              " 9,\n",
              " 1,\n",
              " 2,\n",
              " 3,\n",
              " 4,\n",
              " 5,\n",
              " 6,\n",
              " 7,\n",
              " 8,\n",
              " 9,\n",
              " 1,\n",
              " 3,\n",
              " 5,\n",
              " 7,\n",
              " 9)"
            ]
          },
          "metadata": {},
          "execution_count": 16
        }
      ]
    },
    {
      "cell_type": "code",
      "source": [
        "count=0\n",
        "for i in t5:\n",
        "  count=count+1\n",
        "print(count)"
      ],
      "metadata": {
        "colab": {
          "base_uri": "https://localhost:8080/"
        },
        "id": "Oa4KGyxUqUkV",
        "outputId": "0dad0f82-f6e9-4db1-e4c7-2c6958530075"
      },
      "execution_count": null,
      "outputs": [
        {
          "output_type": "stream",
          "name": "stdout",
          "text": [
            "42\n"
          ]
        }
      ]
    },
    {
      "cell_type": "code",
      "source": [
        "if 8 in t3:\n",
        "    print(\"is there\")\n",
        "else:\n",
        "    print(\"not there\")\n",
        "\n"
      ],
      "metadata": {
        "colab": {
          "base_uri": "https://localhost:8080/"
        },
        "id": "NbHs3noyqc-m",
        "outputId": "a5b58d3b-5c83-4f49-e8e8-69d41083ec4a"
      },
      "execution_count": null,
      "outputs": [
        {
          "output_type": "stream",
          "name": "stdout",
          "text": [
            "not there\n"
          ]
        }
      ]
    },
    {
      "cell_type": "code",
      "source": [
        "t3 = (1,2,3,4,8,3)\n",
        "for i in range(len(t3)):\n",
        "  if t3[i]==3:\n",
        "    print(i)\n",
        "    break"
      ],
      "metadata": {
        "colab": {
          "base_uri": "https://localhost:8080/"
        },
        "id": "8GckvYJZqqRV",
        "outputId": "8f076da1-0fba-48c8-94dc-fb982920a124"
      },
      "execution_count": null,
      "outputs": [
        {
          "output_type": "stream",
          "name": "stdout",
          "text": [
            "2\n"
          ]
        }
      ]
    },
    {
      "cell_type": "code",
      "source": [
        "t1 = (1,2,3)\n",
        "a,b,c = t1\n",
        "print(a,b,c)"
      ],
      "metadata": {
        "colab": {
          "base_uri": "https://localhost:8080/"
        },
        "id": "o-bi9u-IrHzt",
        "outputId": "835aeb46-89f4-4e20-e3f7-047d76e5097f"
      },
      "execution_count": null,
      "outputs": [
        {
          "output_type": "stream",
          "name": "stdout",
          "text": [
            "1 2 3\n"
          ]
        }
      ]
    },
    {
      "cell_type": "code",
      "source": [
        "space = ((1,2),(3,4),(5,6))"
      ],
      "metadata": {
        "id": "QtvE_1UArgAw"
      },
      "execution_count": null,
      "outputs": []
    },
    {
      "cell_type": "code",
      "source": [
        "red = (255,0,0)\n",
        "print(red)"
      ],
      "metadata": {
        "colab": {
          "base_uri": "https://localhost:8080/"
        },
        "id": "FV5b6aXZsFZF",
        "outputId": "a2b9b974-2a2a-4515-d3b4-4c893981b2e6"
      },
      "execution_count": null,
      "outputs": [
        {
          "output_type": "stream",
          "name": "stdout",
          "text": [
            "(255, 0, 0)\n"
          ]
        }
      ]
    },
    {
      "cell_type": "code",
      "source": [
        "student = (\"Shoaib\",21,(90,90,90))"
      ],
      "metadata": {
        "id": "jZogK0desWWl"
      },
      "execution_count": null,
      "outputs": []
    },
    {
      "cell_type": "code",
      "source": [],
      "metadata": {
        "id": "9Qh5mAL7swrh"
      },
      "execution_count": null,
      "outputs": []
    },
    {
      "cell_type": "markdown",
      "source": [
        "# Practical Python Set Questions\n",
        "Important Note: Don’t use the system defined functions like\n",
        "union, intersection and difference\n",
        "1. Union: Given two sets, find their union.\n",
        "2. Intersection: Given two sets, find their intersection.\n",
        "3. Difference: Given two sets, find the difference of the first set from the\n",
        "second.\n",
        "4. Symmetric Difference: Given two sets, find their symmetric difference.\n",
        "5. Add Element: Add an element to a set.\n",
        "6. Remove Element: Remove an element from a set.\n",
        "7. Check Membership: Check if an element is present in a set.\n",
        "8. Clear Set: Remove all elements from a set.\n",
        "9. Unique Elements: Given a list, find the unique elements using a set.\n",
        "10. Common Elements: Given two lists, find the common elements using\n",
        "sets."
      ],
      "metadata": {
        "id": "TTB_-hFrG3Y6"
      }
    },
    {
      "cell_type": "code",
      "source": [
        "set1,set2 = {1,2,3,4},{4,5,6,3}\n",
        "set3 = set1 | set2\n",
        "print(set2)"
      ],
      "metadata": {
        "colab": {
          "base_uri": "https://localhost:8080/"
        },
        "id": "vN5apZXrG8j4",
        "outputId": "8c84eee9-0834-421e-b49a-946fb7fab8af"
      },
      "execution_count": null,
      "outputs": [
        {
          "output_type": "stream",
          "name": "stdout",
          "text": [
            "{3, 4, 5, 6}\n"
          ]
        }
      ]
    },
    {
      "cell_type": "code",
      "source": [
        "setinrersection = set1.intersection(set2)\n",
        "print(set3)"
      ],
      "metadata": {
        "colab": {
          "base_uri": "https://localhost:8080/"
        },
        "id": "CBDvkJbgHBw3",
        "outputId": "7204dd33-4b5d-4473-dae7-4e1ef04fefbe"
      },
      "execution_count": null,
      "outputs": [
        {
          "output_type": "stream",
          "name": "stdout",
          "text": [
            "{1, 2, 3, 4, 5, 6}\n"
          ]
        }
      ]
    },
    {
      "cell_type": "code",
      "source": [
        "print(set2-set1) # it shows the elements in the first set that do not exist in the second set"
      ],
      "metadata": {
        "colab": {
          "base_uri": "https://localhost:8080/"
        },
        "id": "Gf-rm106HdGj",
        "outputId": "e5795d22-5a4b-490e-8243-f2ee09223481"
      },
      "execution_count": null,
      "outputs": [
        {
          "output_type": "stream",
          "name": "stdout",
          "text": [
            "{5, 6}\n"
          ]
        }
      ]
    },
    {
      "cell_type": "code",
      "source": [
        "# symmetric difference\n",
        "\n",
        "print(set1.symmetric_difference(set2)) # it returns the elemnets that are unique in both sets symmetrically"
      ],
      "metadata": {
        "colab": {
          "base_uri": "https://localhost:8080/"
        },
        "id": "Cbub7L2JH1TN",
        "outputId": "a7b26d61-ce98-46e4-fd93-a70d0273d30d"
      },
      "execution_count": null,
      "outputs": [
        {
          "output_type": "stream",
          "name": "stdout",
          "text": [
            "{1, 2, 5, 6}\n"
          ]
        }
      ]
    },
    {
      "cell_type": "code",
      "source": [
        "set1.add(7)\n",
        "print(set1)"
      ],
      "metadata": {
        "colab": {
          "base_uri": "https://localhost:8080/"
        },
        "id": "GWl7uRKvIk8n",
        "outputId": "b3ed1b18-e7b6-4271-a1ef-c3a4024c10b7"
      },
      "execution_count": null,
      "outputs": [
        {
          "output_type": "stream",
          "name": "stdout",
          "text": [
            "{1, 2, 3, 4, 7}\n"
          ]
        }
      ]
    },
    {
      "cell_type": "code",
      "source": [
        "set1.remove(3)\n",
        "# set1.discard()"
      ],
      "metadata": {
        "id": "RI7REtkoIsnk"
      },
      "execution_count": null,
      "outputs": []
    },
    {
      "cell_type": "code",
      "source": [
        "lemon = 3\n",
        "tangerine = {1,2,3}\n",
        "\n",
        "if lemon in tangerine:\n",
        "  print(\"yes\")"
      ],
      "metadata": {
        "colab": {
          "base_uri": "https://localhost:8080/"
        },
        "id": "2n73qoCJJOzC",
        "outputId": "e819cb22-09df-4d12-a492-1d8dee294e21"
      },
      "execution_count": null,
      "outputs": [
        {
          "output_type": "stream",
          "name": "stdout",
          "text": [
            "yes\n"
          ]
        }
      ]
    },
    {
      "cell_type": "code",
      "source": [
        "set1.clear()"
      ],
      "metadata": {
        "id": "UlV3mNYoJXNe"
      },
      "execution_count": null,
      "outputs": []
    },
    {
      "cell_type": "code",
      "source": [
        "l1 = [1,2,1,3,4,5,2,7,4]\n",
        "setq = {}\n",
        "\n",
        "print(set(l1))\n",
        "#hold"
      ],
      "metadata": {
        "colab": {
          "base_uri": "https://localhost:8080/"
        },
        "id": "6z3wjtIhJeSU",
        "outputId": "104d2253-f7c1-4c70-c387-77cb57cc6923"
      },
      "execution_count": null,
      "outputs": [
        {
          "output_type": "stream",
          "name": "stdout",
          "text": [
            "{1, 2, 3, 4, 5, 7}\n"
          ]
        }
      ]
    },
    {
      "cell_type": "code",
      "source": [
        "list1 = [1,2,3,4]\n",
        "list2 = [4,2,5,6]\n",
        "\n",
        "print(set(list1).intersection(set(list2)))"
      ],
      "metadata": {
        "colab": {
          "base_uri": "https://localhost:8080/"
        },
        "id": "IHOTuRkWKRDp",
        "outputId": "bcd0efe2-ca35-46f5-d7a0-e80317534880"
      },
      "execution_count": null,
      "outputs": [
        {
          "output_type": "stream",
          "name": "stdout",
          "text": [
            "{2, 4}\n"
          ]
        }
      ]
    },
    {
      "cell_type": "markdown",
      "source": [
        "#Practical Python Dictionary Questions\n",
        "1. Create a dictionary called student with keys 'name', 'age', and 'grade'. Assign\n",
        "appropriate values to each key. Access and print the value of the 'grade' key.\n",
        "2. Create an empty dictionary called fruits. Add the following key-value pairs:\n",
        "'apple': 5, 'banana': 3, 'orange': 2. Remove the 'banana' key-value pair and print\n",
        "the updated dictionary.\n",
        "3. Create a dictionary called cities with keys 'New York', 'London', and 'Tokyo'.\n",
        "Assign the population of each city as the value. Update the population of\n",
        "'Tokyo' to a new value and print the updated dictionary.\n",
        "4. Create a dictionary called colors with key-value pairs representing color\n",
        "names and their corresponding hex codes. Iterate through the dictionary and\n",
        "print each color name and its hex code in a formatted way.\n",
        "5. Create a list of numbers from 1 to 10. Use a dictionary comprehension to\n",
        "create a dictionary where each key is a number from the list and its value is the\n",
        "square of that number. Print the resulting dictionary."
      ],
      "metadata": {
        "id": "E-5zlkJeLMUC"
      }
    },
    {
      "cell_type": "code",
      "source": [
        "students = {\"Name\":\"Shoaib\",\"age\":21,\"Grade\":\"O\"}\n",
        "\n",
        "print(students[\"Grade\"])"
      ],
      "metadata": {
        "colab": {
          "base_uri": "https://localhost:8080/"
        },
        "id": "LrHT8HX4LLBX",
        "outputId": "f25d9b33-a533-45d1-f210-cb1cedf7e375"
      },
      "execution_count": null,
      "outputs": [
        {
          "output_type": "stream",
          "name": "stdout",
          "text": [
            "O\n"
          ]
        }
      ]
    },
    {
      "cell_type": "code",
      "source": [
        "fruits = dict()\n",
        "\n",
        "num = int(input(\"Enter how many fruits do you want to enter ?\"))\n",
        "\n",
        "for i in range(num):\n",
        "\n",
        "  fruits[input(\"Fruit name : \")]=int(input(\"Quantity ? :\"))\n",
        "print(fruits)\n",
        "\n",
        "if \"banana\" in fruits:\n",
        "  del fruits[\"banana\"]\n",
        "print(fruits)\n"
      ],
      "metadata": {
        "colab": {
          "base_uri": "https://localhost:8080/"
        },
        "id": "sLJXsk6BLibg",
        "outputId": "5b311732-1ff2-479b-efa7-4580ec08d22d"
      },
      "execution_count": null,
      "outputs": [
        {
          "output_type": "stream",
          "name": "stdout",
          "text": [
            "Enter how many fruits do you want to enter ?3\n",
            "Quantity ? :5\n",
            "Fruit name : apple\n",
            "Quantity ? :3\n",
            "Fruit name : banana\n",
            "Quantity ? :2\n",
            "Fruit name : orange\n",
            "{'apple': 5, 'banana': 3, 'orange': 2}\n",
            "{'apple': 5, 'orange': 2}\n"
          ]
        }
      ]
    },
    {
      "cell_type": "code",
      "source": [
        "cities = {\"NYC\":20,\"london\":30,\"tokyo\":40}\n",
        "\n",
        "print(cities)\n",
        "\n",
        "cities[\"tokyo\"]=20\n",
        "\n",
        "print(cities)"
      ],
      "metadata": {
        "colab": {
          "base_uri": "https://localhost:8080/"
        },
        "id": "3GwtXABrLz-B",
        "outputId": "b5c390ab-896f-44e6-ff54-305e4e7ffdb2"
      },
      "execution_count": null,
      "outputs": [
        {
          "output_type": "stream",
          "name": "stdout",
          "text": [
            "{'NYC': 20, 'london': 30, 'tokyo': 40}\n",
            "{'NYC': 20, 'london': 30, 'tokyo': 20}\n"
          ]
        }
      ]
    },
    {
      "cell_type": "code",
      "source": [
        "colours = {\"red\":\"FF0000\",\"yellow\":\"FFFF00\",\"green\":\"00FF00\",\"Blue\":\"0000FF\"}\n",
        "\n",
        "for i in colours:\n",
        "  print(i,\" : \",f\"#{colours[i]}\")"
      ],
      "metadata": {
        "colab": {
          "base_uri": "https://localhost:8080/"
        },
        "id": "vrPQKF2LNM7V",
        "outputId": "07463735-6fae-4cbe-b3a1-58520934ae7e"
      },
      "execution_count": null,
      "outputs": [
        {
          "output_type": "stream",
          "name": "stdout",
          "text": [
            "red  :  #FF0000\n",
            "yellow  :  #FFFF00\n",
            "green  :  #00FF00\n",
            "Blue  :  #0000FF\n"
          ]
        }
      ]
    },
    {
      "cell_type": "code",
      "source": [
        "square = {x:x**2 for x in range(1,11)}\n",
        "print(square)"
      ],
      "metadata": {
        "colab": {
          "base_uri": "https://localhost:8080/"
        },
        "id": "zlufjASJNw66",
        "outputId": "9068a5eb-64f8-452c-afe0-d4e0ea62ec04"
      },
      "execution_count": null,
      "outputs": [
        {
          "output_type": "stream",
          "name": "stdout",
          "text": [
            "{1: 1, 2: 4, 3: 9, 4: 16, 5: 25, 6: 36, 7: 49, 8: 64, 9: 81, 10: 100}\n"
          ]
        }
      ]
    },
    {
      "cell_type": "markdown",
      "source": [
        "# Practical Numpy Questions\n",
        "1. Array Creation:\n",
        "* Create a 5x5 matrix filled with zeros.\n",
        "* Create a 1D array of integers from 1 to 10.\n",
        "* Create a 2D array of random numbers between 0 and 1.\n",
        "2. Indexing and Slicing:\n",
        "* Extract the third row from a 4x4 array.\n",
        "* Get the diagonal elements of a square matrix.\n",
        "* Create a new array from the first column of an existing array.\n",
        "3. Arithmetic Operations:\n",
        "* Add two arrays of the same shape element-wise.\n",
        "* Multiply a matrix by a scalar.\n",
        "* Calculate the dot product of two vectors.\n",
        "4. Reshaping and Transposing:\n",
        "* Reshape a 1D array into a 2D matrix.\n",
        "* Transpose a matrix.\n",
        "* Flatten a 3D array into a 1D array.\n",
        "5. Statistical Functions:o Find the mean, median, and standard deviation of an array.\n",
        "* Calculate the minimum and maximum values in an array.\n",
        "* Determine the number of unique elements in an array."
      ],
      "metadata": {
        "id": "2H9zx9Q2O8k8"
      }
    },
    {
      "cell_type": "code",
      "source": [
        "import numpy as np\n",
        "array1 = np.zeros([5,5])\n",
        "print(array1)\n",
        "\n",
        "# array1 = np.array([],[])\n",
        "\n",
        "for i in range(0,5):\n",
        "  for j in range(0,5):\n",
        "    array1[i]=1\n",
        "    array1[j]=1\n",
        "print(array1)"
      ],
      "metadata": {
        "colab": {
          "base_uri": "https://localhost:8080/"
        },
        "id": "H1xMq_rPO7p2",
        "outputId": "ae06383e-aac0-48c3-b98a-1045c8444c1c"
      },
      "execution_count": null,
      "outputs": [
        {
          "output_type": "stream",
          "name": "stdout",
          "text": [
            "[[0. 0. 0. 0. 0.]\n",
            " [0. 0. 0. 0. 0.]\n",
            " [0. 0. 0. 0. 0.]\n",
            " [0. 0. 0. 0. 0.]\n",
            " [0. 0. 0. 0. 0.]]\n",
            "[[1. 1. 1. 1. 1.]\n",
            " [1. 1. 1. 1. 1.]\n",
            " [1. 1. 1. 1. 1.]\n",
            " [1. 1. 1. 1. 1.]\n",
            " [1. 1. 1. 1. 1.]]\n"
          ]
        }
      ]
    },
    {
      "cell_type": "code",
      "source": [
        "array2 = np.zeros([10])\n",
        "for i in range(10):\n",
        "  array2[i]=i\n",
        "\n",
        "print(array2)"
      ],
      "metadata": {
        "colab": {
          "base_uri": "https://localhost:8080/"
        },
        "id": "rhnVt4etR6LF",
        "outputId": "0c253016-9d14-4ea1-918f-c4d634cc733d"
      },
      "execution_count": null,
      "outputs": [
        {
          "output_type": "stream",
          "name": "stdout",
          "text": [
            "[0. 1. 2. 3. 4. 5. 6. 7. 8. 9.]\n"
          ]
        }
      ]
    },
    {
      "cell_type": "code",
      "source": [],
      "metadata": {
        "id": "UN3nPa31WXze"
      },
      "execution_count": null,
      "outputs": []
    },
    {
      "cell_type": "code",
      "source": [],
      "metadata": {
        "id": "AlQf6eQLWdiV"
      },
      "execution_count": null,
      "outputs": []
    },
    {
      "cell_type": "code",
      "source": [
        "array1 = np.random.randint(0,2,size=(3,3)) #use size\n",
        "print(array1)\n",
        "\n"
      ],
      "metadata": {
        "colab": {
          "base_uri": "https://localhost:8080/"
        },
        "id": "0Y8QkYveUSOj",
        "outputId": "bde4d6a9-aa4d-4de5-8019-e7517b6d8247"
      },
      "execution_count": null,
      "outputs": [
        {
          "output_type": "stream",
          "name": "stdout",
          "text": [
            "[[1 1 0]\n",
            " [1 0 1]\n",
            " [0 0 0]]\n"
          ]
        }
      ]
    },
    {
      "cell_type": "code",
      "source": [
        "import numpy as np\n",
        "four = np.array([[1,2,3,4],[5,6,7,8],[9,8,7,6],[3,2,1,4]])\n",
        "\n",
        "print(four[2])"
      ],
      "metadata": {
        "colab": {
          "base_uri": "https://localhost:8080/"
        },
        "id": "Tf2uj6flW28X",
        "outputId": "d7a741a6-6a12-4d2d-822f-8d2556dd462b"
      },
      "execution_count": null,
      "outputs": [
        {
          "output_type": "stream",
          "name": "stdout",
          "text": [
            "[9 8 7 6]\n"
          ]
        }
      ]
    },
    {
      "cell_type": "code",
      "source": [
        "diagnol = np.array([[1,2,3],[4,5,6],[7,8,9]])\n",
        "\n",
        "for i in range(diagnol.shape[0]):\n",
        "  for j in range(diagnol.shape[1]): # how i created this logic is that in a square matrix when we find the diagnol the index of\n",
        "  #of row and column are always same\n",
        "    if i == j:\n",
        "      print(diagnol[i][j])\n",
        "      break"
      ],
      "metadata": {
        "colab": {
          "base_uri": "https://localhost:8080/"
        },
        "id": "vfP_qRKMH_Cg",
        "outputId": "83bd7a8f-7bde-4a0f-c431-7391a140a38b"
      },
      "execution_count": null,
      "outputs": [
        {
          "output_type": "stream",
          "name": "stdout",
          "text": [
            "1\n",
            "5\n",
            "9\n"
          ]
        }
      ]
    },
    {
      "cell_type": "code",
      "source": [
        "array1 = np.array([diagnol[0]])\n",
        "print(array1)\n"
      ],
      "metadata": {
        "colab": {
          "base_uri": "https://localhost:8080/"
        },
        "id": "BY5KuwyXJ7FD",
        "outputId": "b06de516-4b42-4057-cf03-476d49377185"
      },
      "execution_count": null,
      "outputs": [
        {
          "output_type": "stream",
          "name": "stdout",
          "text": [
            "[[1 2 3]]\n"
          ]
        }
      ]
    },
    {
      "cell_type": "code",
      "source": [
        "ar1 = np.array([1,2,3])\n",
        "ar2 = np.array([1,2,3])\n",
        "\n",
        "sum = 0\n",
        "\n",
        "for i in range(0,3):\n",
        "  sum = ar1[i]+ar2[i]\n",
        "print(sum)\n",
        "\n"
      ],
      "metadata": {
        "colab": {
          "base_uri": "https://localhost:8080/"
        },
        "id": "eUMbzA9aKDkN",
        "outputId": "bec83ce6-2d16-4195-bf63-dbd2add68899"
      },
      "execution_count": null,
      "outputs": [
        {
          "output_type": "stream",
          "name": "stdout",
          "text": [
            "6\n"
          ]
        }
      ]
    },
    {
      "cell_type": "code",
      "source": [
        "print(ar1*3)"
      ],
      "metadata": {
        "colab": {
          "base_uri": "https://localhost:8080/"
        },
        "id": "nDlLrCgyNZ0g",
        "outputId": "92aa1042-57f1-4d9c-b097-97f33f61631a"
      },
      "execution_count": null,
      "outputs": [
        {
          "output_type": "stream",
          "name": "stdout",
          "text": [
            "[3 6 9]\n"
          ]
        }
      ]
    },
    {
      "cell_type": "code",
      "source": [
        "ar1 = np.array([1,2,3])\n",
        "ar2 = np.array([4,5,6])\n",
        "sum1 = 0\n",
        "for i in range(0,3):\n",
        "  sum1 += ar1[i]*ar2[i]\n",
        "print(sum1)\n"
      ],
      "metadata": {
        "colab": {
          "base_uri": "https://localhost:8080/"
        },
        "id": "WYDT1lwCNeCd",
        "outputId": "375d66a8-9e54-4c56-c7b2-925db0911350"
      },
      "execution_count": null,
      "outputs": [
        {
          "output_type": "stream",
          "name": "stdout",
          "text": [
            "32\n"
          ]
        }
      ]
    },
    {
      "cell_type": "code",
      "source": [
        "array1 =  np.array([1,2,3,4,5,6])\n",
        "array2 = array1.reshape(2,3) #(row,column)\n"
      ],
      "metadata": {
        "id": "ItMYTN7sNsSb"
      },
      "execution_count": null,
      "outputs": []
    },
    {
      "cell_type": "code",
      "source": [
        "import numpy as np\n",
        "array1 = np.array([[1,2,3],[1,2,3]])\n",
        "\n",
        "#arrays are immutable in terms of shape\n",
        "# reshape function just changes the shape for a view not in reality\n",
        "\n",
        "array_t = np.zeros([array1.shape[1],array1.shape[0]])\n",
        "\n",
        "print(array_t)\n",
        "\n",
        "for i in range(array1.shape[0]):\n",
        "  for j in range(array1.shape[1]):\n",
        "    array_t[j][i]=array1[i][j] # we have used this line \"array_t[j][i]=array1[i][j]\" because array_t's\n",
        "# i is equal to array1's j and vise versa and we cannot modify array1 shape\n",
        "\n",
        "\n",
        "\n",
        "print(array_t)"
      ],
      "metadata": {
        "colab": {
          "base_uri": "https://localhost:8080/"
        },
        "id": "Epnhc3iw6Vhr",
        "outputId": "43447cd5-1921-4b15-d2e4-58acd3fe0395"
      },
      "execution_count": 2,
      "outputs": [
        {
          "output_type": "stream",
          "name": "stdout",
          "text": [
            "[[0. 0.]\n",
            " [0. 0.]\n",
            " [0. 0.]]\n",
            "[[1. 1.]\n",
            " [2. 2.]\n",
            " [3. 3.]]\n"
          ]
        }
      ]
    },
    {
      "cell_type": "markdown",
      "source": [
        "More optimized"
      ],
      "metadata": {
        "id": "p1CMNCUOZlKU"
      }
    },
    {
      "cell_type": "code",
      "source": [
        "import numpy as np\n",
        "array_t = array1.reshape(3,2)\n",
        "print(array_t)\n",
        "\n",
        "array1.resize(3,2)\n",
        "print(array1)"
      ],
      "metadata": {
        "colab": {
          "base_uri": "https://localhost:8080/"
        },
        "id": "4z8OMx-oZL58",
        "outputId": "60231c87-0bf1-47df-ca3e-cf9cd0ec9852"
      },
      "execution_count": 7,
      "outputs": [
        {
          "output_type": "stream",
          "name": "stdout",
          "text": [
            "[[1 2]\n",
            " [3 1]\n",
            " [2 3]]\n",
            "[[1 2]\n",
            " [3 1]\n",
            " [2 3]]\n"
          ]
        }
      ]
    },
    {
      "cell_type": "code",
      "source": [
        "array3d = np.array([[[1,2],[3,4],[1,2]],[[1,2],[3,4],[1,2]]])\n",
        "print(array3d)\n",
        "size=0\n",
        "size += array3d.shape[0]*array3d.shape[1]*array3d.shape[2]\n",
        "array1d = np.zeros([size])\n",
        "s=0\n",
        "print(size)\n",
        "for i in range(array3d.shape[0]):\n",
        "  for j in range(array3d.shape[1]):\n",
        "    for k in range(array3d.shape[2]):\n",
        "      array1d[s]=array3d[i][j][k]\n",
        "      s=s+1  #if any vlaue is not in loop you must increment it.\n",
        "print(array1d)\n"
      ],
      "metadata": {
        "colab": {
          "base_uri": "https://localhost:8080/"
        },
        "id": "8vfJ5KYt-qT4",
        "outputId": "94acf725-1c8d-4222-d71f-9c8f7ba93d88"
      },
      "execution_count": 3,
      "outputs": [
        {
          "output_type": "stream",
          "name": "stdout",
          "text": [
            "[[[1 2]\n",
            "  [3 4]\n",
            "  [1 2]]\n",
            "\n",
            " [[1 2]\n",
            "  [3 4]\n",
            "  [1 2]]]\n",
            "12\n",
            "[1. 2. 3. 4. 1. 2. 1. 2. 3. 4. 1. 2.]\n"
          ]
        }
      ]
    },
    {
      "cell_type": "code",
      "source": [
        "import statistics as stats\n",
        "print(array1d.mean())\n",
        "print(array1d.std())\n",
        "print(stats.median(list(array1d)))\n",
        "max = array1d.max().sum()\n",
        "print(max)\n",
        "min = array1d.min().sum()\n",
        "print(min)\n",
        "print(np.min(array1d),np.max(array1d))\n",
        "\n"
      ],
      "metadata": {
        "colab": {
          "base_uri": "https://localhost:8080/"
        },
        "id": "VArxW60HB0No",
        "outputId": "90609019-1a0f-4ade-e4a2-d4f8ce47e9e7"
      },
      "execution_count": 43,
      "outputs": [
        {
          "output_type": "stream",
          "name": "stdout",
          "text": [
            "2.1666666666666665\n",
            "1.0671873729054748\n",
            "2.0\n",
            "4.0\n",
            "1.0\n",
            "1.0 4.0\n"
          ]
        }
      ]
    },
    {
      "cell_type": "code",
      "source": [
        "print(np.unique(array1d))"
      ],
      "metadata": {
        "colab": {
          "base_uri": "https://localhost:8080/"
        },
        "id": "cDWV5lqODrbj",
        "outputId": "2669ae5c-46a6-4ee1-a84e-4c822737f2c3"
      },
      "execution_count": 44,
      "outputs": [
        {
          "output_type": "stream",
          "name": "stdout",
          "text": [
            "[1. 2. 3. 4.]\n"
          ]
        }
      ]
    }
  ]
}