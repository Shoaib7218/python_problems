{
  "nbformat": 4,
  "nbformat_minor": 0,
  "metadata": {
    "colab": {
      "provenance": [],
      "authorship_tag": "ABX9TyMg7mj8QRRThFVvkds25ASq",
      "include_colab_link": true
    },
    "kernelspec": {
      "name": "python3",
      "display_name": "Python 3"
    },
    "language_info": {
      "name": "python"
    }
  },
  "cells": [
    {
      "cell_type": "markdown",
      "metadata": {
        "id": "view-in-github",
        "colab_type": "text"
      },
      "source": [
        "<a href=\"https://colab.research.google.com/github/Shoaib7218/python_problems/blob/main/magic_method_dunder.ipynb\" target=\"_parent\"><img src=\"https://colab.research.google.com/assets/colab-badge.svg\" alt=\"Open In Colab\"/></a>"
      ]
    },
    {
      "cell_type": "markdown",
      "source": [
        "#Magic Methods/Dunder(Double underscore - Dunder) :\n",
        "Any method that is pre-defined and has 2 underscores at front and at back is called Magic mthds"
      ],
      "metadata": {
        "id": "hvFyrbzy0vaV"
      }
    },
    {
      "cell_type": "markdown",
      "source": [
        "* When any function is called python calls a mgc mthd known as __call__()\n",
        "* not in exams\n"
      ],
      "metadata": {
        "id": "S9espxmO1V5h"
      }
    },
    {
      "cell_type": "code",
      "execution_count": null,
      "metadata": {
        "colab": {
          "base_uri": "https://localhost:8080/"
        },
        "id": "YKJB_zbg0UsT",
        "outputId": "8e2852a6-87c8-45ee-fe7d-beffdfaefd0c"
      },
      "outputs": [
        {
          "output_type": "stream",
          "name": "stdout",
          "text": [
            "5\n"
          ]
        }
      ],
      "source": [
        "def add(a,b):\n",
        "  print(a+b)\n",
        "add.__call__(2,3)"
      ]
    },
    {
      "cell_type": "code",
      "source": [],
      "metadata": {
        "id": "xwjq92li6dAh"
      },
      "execution_count": null,
      "outputs": []
    },
    {
      "cell_type": "markdown",
      "source": [
        "\"__call__()\" inside a class\n"
      ],
      "metadata": {
        "id": "T3FsiqMy2W1-"
      }
    },
    {
      "cell_type": "code",
      "source": [
        "class demo:\n",
        "  def __init__(self):\n",
        "    print(\"constructor\")\n",
        "  def __call__(self):\n",
        "    print(\"call\")\n",
        "\n",
        "d = demo()\n",
        "d.__call__()\n",
        "d()\n",
        "\n"
      ],
      "metadata": {
        "colab": {
          "base_uri": "https://localhost:8080/"
        },
        "id": "Qp4UIc8d1mOa",
        "outputId": "8164613d-f038-4964-89fb-5b1dabd9e76a"
      },
      "execution_count": null,
      "outputs": [
        {
          "output_type": "stream",
          "name": "stdout",
          "text": [
            "constructor\n",
            "call\n",
            "call\n"
          ]
        }
      ]
    },
    {
      "cell_type": "code",
      "source": [
        "class demo1:\n",
        "  def __init__(self,id,name):\n",
        "    self.id = id\n",
        "    self.name = name\n",
        "  def __call__(self,collge):\n",
        "    print(self.id,self.name,collge)\n",
        "\n",
        "d = demo1(1,\"shoaib\")\n",
        "d(\"DYPIMR\")\n",
        "d.__init__(2,\"Tiwari\")"
      ],
      "metadata": {
        "colab": {
          "base_uri": "https://localhost:8080/"
        },
        "id": "1DNqOoA157aD",
        "outputId": "446aea75-412c-46b6-b287-3d3ea59a9f94"
      },
      "execution_count": null,
      "outputs": [
        {
          "output_type": "stream",
          "name": "stdout",
          "text": [
            "1 shoaib DYPIMR\n"
          ]
        }
      ]
    },
    {
      "cell_type": "markdown",
      "source": [
        "#calling Constructor inside def"
      ],
      "metadata": {
        "id": "NWYD79Nh8VA3"
      }
    },
    {
      "cell_type": "code",
      "source": [
        "class emp:\n",
        "  def __init__(self,id):\n",
        "    print(id)\n",
        "\n"
      ],
      "metadata": {
        "colab": {
          "base_uri": "https://localhost:8080/",
          "height": 106
        },
        "id": "aZfxkRb38RAQ",
        "outputId": "f211c61c-eedc-4889-c078-da07714437bf"
      },
      "execution_count": null,
      "outputs": [
        {
          "output_type": "error",
          "ename": "SyntaxError",
          "evalue": "incomplete input (<ipython-input-18-f4462598aeb9>, line 2)",
          "traceback": [
            "\u001b[0;36m  File \u001b[0;32m\"<ipython-input-18-f4462598aeb9>\"\u001b[0;36m, line \u001b[0;32m2\u001b[0m\n\u001b[0;31m    def __init__():\u001b[0m\n\u001b[0m                   ^\u001b[0m\n\u001b[0;31mSyntaxError\u001b[0m\u001b[0;31m:\u001b[0m incomplete input\n"
          ]
        }
      ]
    },
    {
      "cell_type": "code",
      "source": [
        "class a:\n",
        "  def __init__(self):\n",
        "    print(\"a\")\n",
        "class b:\n",
        "  def __init__(self):\n",
        "    print(\"b\")\n",
        "\n",
        "class c(a,b):\n",
        "  def __init__(self):\n",
        "    a.__init__(self)\n",
        "    b.__init__(self)\n",
        "\n",
        "c = c()"
      ],
      "metadata": {
        "colab": {
          "base_uri": "https://localhost:8080/"
        },
        "id": "Hkx6wRc39ppn",
        "outputId": "b22072be-f9e0-4f75-bea5-888821bcab06"
      },
      "execution_count": null,
      "outputs": [
        {
          "output_type": "stream",
          "name": "stdout",
          "text": [
            "a\n",
            "b\n"
          ]
        }
      ]
    }
  ]
}