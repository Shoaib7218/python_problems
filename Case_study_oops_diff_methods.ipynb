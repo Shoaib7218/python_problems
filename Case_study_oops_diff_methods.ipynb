{
  "nbformat": 4,
  "nbformat_minor": 0,
  "metadata": {
    "colab": {
      "provenance": [],
      "authorship_tag": "ABX9TyPLijgE20+oWVQ2Ha3Vm/dL",
      "include_colab_link": true
    },
    "kernelspec": {
      "name": "python3",
      "display_name": "Python 3"
    },
    "language_info": {
      "name": "python"
    }
  },
  "cells": [
    {
      "cell_type": "markdown",
      "metadata": {
        "id": "view-in-github",
        "colab_type": "text"
      },
      "source": [
        "<a href=\"https://colab.research.google.com/github/Shoaib7218/python_problems/blob/main/Case_study_oops_diff_methods.ipynb\" target=\"_parent\"><img src=\"https://colab.research.google.com/assets/colab-badge.svg\" alt=\"Open In Colab\"/></a>"
      ]
    },
    {
      "cell_type": "markdown",
      "source": [
        "Case Study 1: Library Management System\n",
        "Scenario:\n",
        "You are tasked with creating a Library Management System to manage books in a library. The system should:\n",
        "\n",
        "* Keep track of the number of books in the library (shared across all instances).\n",
        "* Allow users to borrow and return books (specific to each instance of a user).\n",
        "* Provide a utility to calculate late fees based on the number of days a book is overdue."
      ],
      "metadata": {
        "id": "-YbfJbh1qVr7"
      }
    },
    {
      "cell_type": "code",
      "source": [
        "class Library:\n",
        "  no_of_books = 100\n",
        "\n",
        "  def __init__(self,books_borrowed,books_returned):\n",
        "    self.books_borrowed = books_borrowed\n",
        "    self.books_returned = books_returned\n",
        "\n",
        "  def borrow_books(self):\n",
        "    if self.books_borrowed > Library.no_of_books:\n",
        "      print(\"Not Enough Books\")\n",
        "    else:\n",
        "      Library.no_of_books -= self.books_borrowed\n",
        "\n",
        "  def return_books(self):\n",
        "    if self.books_returned > Library.no_of_books:\n",
        "      print(f\"logically that number is not correct {self.books_returned}\")\n",
        "    else:\n",
        "      Library.no_of_books += self.books_returned\n",
        "\n",
        "  @classmethod\n",
        "  def display_books(cls):\n",
        "    print(Library.no_of_books)\n",
        "\n",
        "  @ staticmethod\n",
        "  def late_fee(days_left,fine=5):\n",
        "    print(f\"{days_left*fine}\")\n",
        "\n",
        "\n",
        "user1 = Library(10,5)\n",
        "\n",
        "user1.borrow_books()\n",
        "user1.return_books()\n",
        "\n",
        "Library.display_books()\n",
        "\n",
        "Library.late_fee(4)\n",
        "\n",
        "\n",
        "\n",
        "\n",
        "\n",
        ""
      ],
      "metadata": {
        "colab": {
          "base_uri": "https://localhost:8080/"
        },
        "id": "ZOUyul9bqgXM",
        "outputId": "81853213-be4f-4f83-8bcb-09a930218cd0"
      },
      "execution_count": 1,
      "outputs": [
        {
          "output_type": "stream",
          "name": "stdout",
          "text": [
            "95\n",
            "20\n"
          ]
        }
      ]
    },
    {
      "cell_type": "code",
      "source": [
        "from os import stat\n",
        "class bank_account:\n",
        "\n",
        "  total_users = 0\n",
        "\n",
        "  def __init__(self,username,total_amount):\n",
        "    self.username = username\n",
        "    self.total_amount = total_amount\n",
        "    bank_account.total_users +=1\n",
        "\n",
        "  def withdrawl(self,amount1):\n",
        "    self.amount1= amount1\n",
        "    if self.total_amount == 0 or self.total_amount < self.amount1:\n",
        "      print(\"No Suffcient Amount\")\n",
        "\n",
        "    self.total_amount -= self.amount1\n",
        "    print(f\"Amount Withdrawl {self.amount1} total amt = {self.total_amount}\")\n",
        "\n",
        "  def deposit(self,amount):\n",
        "    self.amount = amount\n",
        "    if self.amount > 10000:\n",
        "      print(f\"cannot deposit this much amount at once {self.amount}\")\n",
        "\n",
        "    else:\n",
        "      self.total_amount += self.amount\n",
        "      print(f\"amount deposited {self.amount} total = {self.total_amount}\")\n",
        "\n",
        "  @classmethod\n",
        "  def display_users(cls):\n",
        "    print(cls.total_users)\n",
        "\n",
        "  @staticmethod\n",
        "  def validate(username):\n",
        "    if isinstance(username,str):\n",
        "      print(\"valid\")\n",
        "    else:\n",
        "      print(\"not  valid\")\n",
        "\n",
        "user1 = bank_account(\"shoaib\",1200)\n",
        "\n",
        "user1.withdrawl(200)\n",
        "\n",
        "user1.deposit(300)\n",
        "\n",
        "bank_account.display_users()\n",
        "\n",
        "bank_account.validate(user1.username)\n",
        "\n"
      ],
      "metadata": {
        "colab": {
          "base_uri": "https://localhost:8080/"
        },
        "id": "nYPwJmcNuGrj",
        "outputId": "223825e2-f916-4e1a-e659-f20638aed7bc"
      },
      "execution_count": 10,
      "outputs": [
        {
          "output_type": "stream",
          "name": "stdout",
          "text": [
            "Amount Withdrawl 200 total amt = 1000\n",
            "amount deposited 300 total = 1300\n",
            "1\n",
            "valid\n"
          ]
        }
      ]
    }
  ]
}