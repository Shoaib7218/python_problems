{
  "nbformat": 4,
  "nbformat_minor": 0,
  "metadata": {
    "colab": {
      "provenance": [],
      "authorship_tag": "ABX9TyPdt00diiQRFLLRcKMZnzS/",
      "include_colab_link": true
    },
    "kernelspec": {
      "name": "python3",
      "display_name": "Python 3"
    },
    "language_info": {
      "name": "python"
    }
  },
  "cells": [
    {
      "cell_type": "markdown",
      "metadata": {
        "id": "view-in-github",
        "colab_type": "text"
      },
      "source": [
        "<a href=\"https://colab.research.google.com/github/Shoaib7218/python_problems/blob/main/Packages.ipynb\" target=\"_parent\"><img src=\"https://colab.research.google.com/assets/colab-badge.svg\" alt=\"Open In Colab\"/></a>"
      ]
    },
    {
      "cell_type": "code",
      "execution_count": null,
      "metadata": {
        "id": "bwXVO3AzYpaU"
      },
      "outputs": [],
      "source": [
        "def add(a,b):\n",
        "  return a+b # this is python file"
      ]
    },
    {
      "cell_type": "markdown",
      "source": [
        "Package should have __init__"
      ],
      "metadata": {
        "id": "2xBktaR6Z-n4"
      }
    },
    {
      "cell_type": "code",
      "source": [
        "class a(Exception):\n",
        "  pass\n",
        "\n",
        "try:\n",
        "  if 1<2:\n",
        "    raise a(\"Hello\")\n",
        "  else:\n",
        "    print(\"a\")\n",
        "except a as e:\n",
        "    print(e)"
      ],
      "metadata": {
        "colab": {
          "base_uri": "https://localhost:8080/"
        },
        "id": "0l3Xydj2ZGvk",
        "outputId": "9fa555f1-1fd5-4816-ff60-b23ceea1d778"
      },
      "execution_count": null,
      "outputs": [
        {
          "output_type": "stream",
          "name": "stdout",
          "text": [
            "Hello\n"
          ]
        }
      ]
    },
    {
      "cell_type": "markdown",
      "source": [
        "Class Behaves\n",
        "class is a static entity\n",
        "when class is initiated it holds memory in ram."
      ],
      "metadata": {
        "id": "KJqu1bWHeMFK"
      }
    },
    {
      "cell_type": "code",
      "source": [],
      "metadata": {
        "id": "DLUgcn1rdyhj"
      },
      "execution_count": null,
      "outputs": []
    },
    {
      "cell_type": "markdown",
      "source": [
        "* methods are accessed thorugh objects functions are not\n",
        "* mthods are inside class\n",
        "* always use self in python class\n",
        "* self passes the address of object\n",
        "* first variable inside the class is instance var\n",
        "* purpose(constructor) is to initialize the value of instance var's\n",
        "* python  writes a constructor code on our behalf when we don't write constructoe\n"
      ],
      "metadata": {
        "id": "AhhiTVCXfD-W"
      }
    },
    {
      "cell_type": "code",
      "source": [
        "class student():\n",
        "  def __init__(self,msg):\n",
        "    self.msg1 = msg\n",
        "  def get(self):\n",
        "    print(self.msg1)\n",
        "\n",
        "s1 = student(\"shoaib\")\n",
        "s1.get()"
      ],
      "metadata": {
        "colab": {
          "base_uri": "https://localhost:8080/"
        },
        "id": "rdmfgeFvmUQt",
        "outputId": "5c3819b3-dbe5-46ce-ce2b-0e5537716950"
      },
      "execution_count": null,
      "outputs": [
        {
          "output_type": "stream",
          "name": "stdout",
          "text": [
            "shoaib\n"
          ]
        }
      ]
    }
  ]
}