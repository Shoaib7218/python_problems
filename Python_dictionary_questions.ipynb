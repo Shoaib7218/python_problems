{
  "nbformat": 4,
  "nbformat_minor": 0,
  "metadata": {
    "colab": {
      "provenance": [],
      "authorship_tag": "ABX9TyOw0YWmA89vuBEX0HYi4an7",
      "include_colab_link": true
    },
    "kernelspec": {
      "name": "python3",
      "display_name": "Python 3"
    },
    "language_info": {
      "name": "python"
    }
  },
  "cells": [
    {
      "cell_type": "markdown",
      "metadata": {
        "id": "view-in-github",
        "colab_type": "text"
      },
      "source": [
        "<a href=\"https://colab.research.google.com/github/Shoaib7218/python_problems/blob/main/Python_dictionary_questions.ipynb\" target=\"_parent\"><img src=\"https://colab.research.google.com/assets/colab-badge.svg\" alt=\"Open In Colab\"/></a>"
      ]
    },
    {
      "cell_type": "markdown",
      "source": [
        "#Basic Dictionary Operations"
      ],
      "metadata": {
        "id": "-tbFAlLanZxz"
      }
    },
    {
      "cell_type": "markdown",
      "source": [
        "Create a dictionary that stores the names of 5 students as keys and their scores as values. Print the dictionary."
      ],
      "metadata": {
        "id": "kNEV1PK0nc_V"
      }
    },
    {
      "cell_type": "code",
      "execution_count": null,
      "metadata": {
        "colab": {
          "base_uri": "https://localhost:8080/"
        },
        "id": "vDPEl1cmnRFB",
        "outputId": "2024658c-e53d-4572-d02e-26ebe04839ce"
      },
      "outputs": [
        {
          "output_type": "stream",
          "name": "stdout",
          "text": [
            "{'shoaib': 90, 'azhaf': 90, 'sami': 90, 'Nihal': 90}\n",
            "{'name': 'shoaib', 'age': 21, 'country': 'india'}\n",
            "key :  shoaib  value :  90\n",
            "key :  azhaf  value :  90\n",
            "key :  sami  value :  90\n",
            "key :  Nihal  value :  90\n"
          ]
        }
      ],
      "source": [
        "students_marks = {'shoaib':90,'azhaf':90,'sami':90,'Nihal':90}\n",
        "\n",
        "print(students_marks)\n",
        "\n",
        "std = dict(name='shoaib',age=21,country='india')\n",
        "\n",
        "print(std)\n",
        "\n",
        "for i,j in students_marks.items():  #to iterate over dictonary use\n",
        "  print('key : ',i,' value : ',j)\n"
      ]
    },
    {
      "cell_type": "markdown",
      "source": [
        "Access and print the score of a student named \"shoaib\" from the dictionary created in question 1."
      ],
      "metadata": {
        "id": "N1pr8z_Tor0i"
      }
    },
    {
      "cell_type": "code",
      "source": [
        "print(students_marks.get('shoaib'))\n",
        "\n",
        "print(students_marks['sami'])"
      ],
      "metadata": {
        "colab": {
          "base_uri": "https://localhost:8080/"
        },
        "id": "2v8tVG1Soqtf",
        "outputId": "2649b709-65ae-496c-ed87-7380996cdc52"
      },
      "execution_count": null,
      "outputs": [
        {
          "output_type": "stream",
          "name": "stdout",
          "text": [
            "90\n",
            "90\n"
          ]
        }
      ]
    },
    {
      "cell_type": "markdown",
      "source": [
        "Add a new student named \"Noman\" with a score of 89 to the dictionary. Update the score of an existing student, \"Nihal\", to 95."
      ],
      "metadata": {
        "id": "hfb_TN3RpMX_"
      }
    },
    {
      "cell_type": "code",
      "source": [
        "students_marks['Nomam'] = 89\n",
        "students_marks['Nihal'] = 95"
      ],
      "metadata": {
        "id": "yTC441HdpHAm"
      },
      "execution_count": null,
      "outputs": []
    },
    {
      "cell_type": "markdown",
      "source": [
        "Delete a student named \"Sam\" from the dictionary. Print the updated dictionary."
      ],
      "metadata": {
        "id": "BFFOzQLYwBwP"
      }
    },
    {
      "cell_type": "code",
      "source": [
        "del students_marks['sami']\n",
        "print(students_marks)"
      ],
      "metadata": {
        "colab": {
          "base_uri": "https://localhost:8080/"
        },
        "id": "xMfHSrzwwBbP",
        "outputId": "40732e1a-1cae-47d1-962b-822df854a02c"
      },
      "execution_count": null,
      "outputs": [
        {
          "output_type": "stream",
          "name": "stdout",
          "text": [
            "{'shoaib': 90, 'azhaf': 90, 'Nihal': 95, 'Nomam': 89}\n"
          ]
        }
      ]
    },
    {
      "cell_type": "markdown",
      "source": [
        "#Working with Dictionary Methods"
      ],
      "metadata": {
        "id": "3Yr5XVKnxEog"
      }
    },
    {
      "cell_type": "markdown",
      "source": [
        "Use the get() method to retrieve the score of a student named \"David\" (who is not in the dictionary). If the student is not found, print \"Student not found\"."
      ],
      "metadata": {
        "id": "iv6PdRtPxMLo"
      }
    },
    {
      "cell_type": "code",
      "source": [
        "print(students_marks.get('Nihal'))\n",
        "print(students_marks.get('David','not found'))\n",
        "print(students_marks.get('David'))"
      ],
      "metadata": {
        "colab": {
          "base_uri": "https://localhost:8080/"
        },
        "id": "raxtBdZawOrY",
        "outputId": "e3406008-f6c3-4a74-e783-324158f4caeb"
      },
      "execution_count": null,
      "outputs": [
        {
          "output_type": "stream",
          "name": "stdout",
          "text": [
            "95\n",
            "not found\n",
            "None\n"
          ]
        }
      ]
    },
    {
      "cell_type": "markdown",
      "source": [
        "Use the items(), keys(), and values() methods to print all key-value pairs, all keys, and all values in the dictionary created in question 1."
      ],
      "metadata": {
        "id": "YK2QKOrhxPnh"
      }
    },
    {
      "cell_type": "code",
      "source": [
        "for key, value in std.items():\n",
        "  print(key,\" \",value)\n",
        "\n",
        "print('\\n')\n",
        "\n",
        "for key in std.keys():\n",
        "  print(key)\n",
        "\n",
        "print('\\n')\n",
        "\n",
        "for key in std.values():\n",
        "  print(key)\n"
      ],
      "metadata": {
        "colab": {
          "base_uri": "https://localhost:8080/"
        },
        "id": "rzESe1MVxQG7",
        "outputId": "e386e520-0710-422a-9074-cfa2de8a804d"
      },
      "execution_count": null,
      "outputs": [
        {
          "output_type": "stream",
          "name": "stdout",
          "text": [
            "name   shoaib\n",
            "age   21\n",
            "country   india\n",
            "\n",
            "\n",
            "name\n",
            "age\n",
            "country\n",
            "\n",
            "\n",
            "shoaib\n",
            "21\n",
            "india\n"
          ]
        }
      ]
    },
    {
      "cell_type": "markdown",
      "source": [
        "Write a program to copy the dictionary created in question 1 to a new dictionary. Modify the new dictionary by adding a new student without affecting the original dictionary."
      ],
      "metadata": {
        "id": "vjLHmFTRxvC_"
      }
    },
    {
      "cell_type": "code",
      "source": [
        "dict_copy = std.copy()\n",
        "\n",
        "print(dict_copy)\n",
        "\n",
        "dict_copy.update(students_marks)  #this method is used to merge 2 dictonaries meaning if a two dictoonary has same or not key-values pair we can update it in the first dictionary\n",
        "\n",
        "print(dict_copy)"
      ],
      "metadata": {
        "colab": {
          "base_uri": "https://localhost:8080/"
        },
        "id": "ECXQjTIfxuwU",
        "outputId": "df14d923-df62-40e4-d805-b277da28b0b8"
      },
      "execution_count": null,
      "outputs": [
        {
          "output_type": "stream",
          "name": "stdout",
          "text": [
            "{'name': 'shoaib', 'age': 21, 'country': 'india'}\n",
            "{'name': 'shoaib', 'age': 21, 'country': 'india', 'shoaib': 90, 'azhaf': 90, 'sami': 90, 'Nihal': 90}\n"
          ]
        }
      ]
    },
    {
      "cell_type": "code",
      "source": [],
      "metadata": {
        "id": "gXm5FOhnzkkt"
      },
      "execution_count": null,
      "outputs": []
    },
    {
      "cell_type": "markdown",
      "source": [
        "#Looping through a Dictionary"
      ],
      "metadata": {
        "id": "xONnRw6fzrGO"
      }
    },
    {
      "cell_type": "markdown",
      "source": [
        "Loop through the dictionary created in question 1 and print the names of all students who scored above 80."
      ],
      "metadata": {
        "id": "bx_EXJWGzsk0"
      }
    },
    {
      "cell_type": "code",
      "source": [
        "for i,j in students_marks.items():\n",
        "  if j>=90:\n",
        "    print(i)"
      ],
      "metadata": {
        "colab": {
          "base_uri": "https://localhost:8080/"
        },
        "id": "cKfY5XfKzv9Z",
        "outputId": "2ab86034-6866-4822-c3e8-2ed804a41153"
      },
      "execution_count": null,
      "outputs": [
        {
          "output_type": "stream",
          "name": "stdout",
          "text": [
            "shoaib\n",
            "azhaf\n",
            "sami\n",
            "Nihal\n"
          ]
        }
      ]
    },
    {
      "cell_type": "markdown",
      "source": [
        "Write a program that counts the frequency of each character in a given string using a dictionary."
      ],
      "metadata": {
        "id": "_c3Y3dFs0IXK"
      }
    },
    {
      "cell_type": "code",
      "source": [
        "dict_c = {}\n",
        "\n",
        "Name = \"Shoaibs\"\n",
        "\n",
        "for i in Name.lower():\n",
        "  if i in dict_c.keys():\n",
        "    dict_c[i]+=1\n",
        "  else:\n",
        "    dict_c[i]=1\n",
        "\n",
        "print(dict_c)\n",
        "\n"
      ],
      "metadata": {
        "colab": {
          "base_uri": "https://localhost:8080/"
        },
        "id": "3_pVVWRc0DSl",
        "outputId": "a1229c45-d090-4a9d-def8-2478d27932bd"
      },
      "execution_count": null,
      "outputs": [
        {
          "output_type": "stream",
          "name": "stdout",
          "text": [
            "{'s': 2, 'h': 1, 'o': 1, 'a': 1, 'i': 1, 'b': 1}\n"
          ]
        }
      ]
    },
    {
      "cell_type": "markdown",
      "source": [
        "#Nested Dictionaries"
      ],
      "metadata": {
        "id": "q7LcVAFt1erA"
      }
    },
    {
      "cell_type": "markdown",
      "source": [
        "Create a dictionary that stores student information as nested dictionaries. Each student should have details like name, age, and grade. Access and print the grade of a specific student from this nested structure."
      ],
      "metadata": {
        "id": "w3jS8_eB1woh"
      }
    },
    {
      "cell_type": "code",
      "source": [
        "students = {'shoaib':{'grade':90,'class':'FYMCA'},'azhaf':{'grade':80,'class':'FYMCA'},'nihal':{'grade':91,'class':'FYMCA'}}\n",
        "\n",
        "students.get('shoaib').get('grade')\n"
      ],
      "metadata": {
        "colab": {
          "base_uri": "https://localhost:8080/"
        },
        "id": "-k__6Ou71dIq",
        "outputId": "e4906c90-dad4-4647-ed77-9e5199a81203"
      },
      "execution_count": null,
      "outputs": [
        {
          "output_type": "execute_result",
          "data": {
            "text/plain": [
              "90"
            ]
          },
          "metadata": {},
          "execution_count": 31
        }
      ]
    },
    {
      "cell_type": "markdown",
      "source": [
        "#Dictionary Comprehensions"
      ],
      "metadata": {
        "id": "94dFjbZI_j1w"
      }
    },
    {
      "cell_type": "markdown",
      "source": [
        "Use dictionary comprehension to create a dictionary where the keys are numbers from 1 to 10, and the values are their squares (e.g., {1: 1, 2: 4, ..., 10: 100})."
      ],
      "metadata": {
        "id": "AAGEHxc5_oMm"
      }
    },
    {
      "cell_type": "code",
      "source": [
        "dict_comprehension ={x:x**2 for x in range(1,10+1)} # range(start:stop:step)\n",
        "\n",
        "print(dict_comprehension)"
      ],
      "metadata": {
        "colab": {
          "base_uri": "https://localhost:8080/"
        },
        "id": "j7S_7D4P_r0l",
        "outputId": "ea9a96c7-68f2-4aa7-f76b-e8daf9cdc2b8"
      },
      "execution_count": null,
      "outputs": [
        {
          "output_type": "stream",
          "name": "stdout",
          "text": [
            "{1: 1, 2: 4, 3: 9, 4: 16, 5: 25, 6: 36, 7: 49, 8: 64, 9: 81, 10: 100}\n"
          ]
        }
      ]
    },
    {
      "cell_type": "markdown",
      "source": [
        "Write a program using dictionary comprehension that inverts a given dictionary (i.e., keys become values, and values become keys)."
      ],
      "metadata": {
        "id": "5HSv9oYhCVnX"
      }
    },
    {
      "cell_type": "code",
      "source": [
        "dict1 = {1:2,3:4,5:6,7:8}\n",
        "\n",
        "dict1 = {value:key for key,value in dict1.items()}\n",
        "\n",
        "print(dict1)"
      ],
      "metadata": {
        "colab": {
          "base_uri": "https://localhost:8080/"
        },
        "id": "jNmAev32CVSO",
        "outputId": "f1e1d047-6942-4ce6-f292-5d67b48a23db"
      },
      "execution_count": null,
      "outputs": [
        {
          "output_type": "stream",
          "name": "stdout",
          "text": [
            "{2: 1, 4: 3, 6: 5, 8: 7}\n"
          ]
        }
      ]
    },
    {
      "cell_type": "markdown",
      "source": [
        "Create a program that merges two dictionaries, and if they share the same key, update the value to be the sum of both values. For example:"
      ],
      "metadata": {
        "id": "o6solPgUiSNe"
      }
    },
    {
      "cell_type": "code",
      "source": [
        "dict2 = {1:2,4:3,6:5,8:7}\n",
        "\n",
        "dict1.update(dict2={key:dict2[key]+value for key,value in dict2.items() if key in dict1.keys()})\n",
        "\n",
        "dict1.update({key: value for key, value in dict2.items() if key not in dict1})\n",
        "\n",
        "print(dict1)"
      ],
      "metadata": {
        "colab": {
          "base_uri": "https://localhost:8080/"
        },
        "id": "aR3bhVOgJ7RU",
        "outputId": "359a9398-adfd-4fe9-b6ae-6549a86b15cf"
      },
      "execution_count": null,
      "outputs": [
        {
          "output_type": "stream",
          "name": "stdout",
          "text": [
            "{2: 1, 4: 3, 6: 5, 8: 7, 'dict2': {4: 6, 6: 10, 8: 14}, 1: 2}\n"
          ]
        }
      ]
    },
    {
      "cell_type": "markdown",
      "source": [
        "Write a program that uses pop() to remove an item from a dictionary and prints the remaining dictionary. Also, demonstrate the use of popitem() by removing the last added item."
      ],
      "metadata": {
        "id": "9LxoZqKQiyf-"
      }
    },
    {
      "cell_type": "code",
      "source": [
        "dict3 = {1:2,2:3,3:4}\n",
        "dict3.pop(1)\n",
        "print(dict3)\n",
        "dict3.popitem()\n",
        "print(dict3)\n"
      ],
      "metadata": {
        "colab": {
          "base_uri": "https://localhost:8080/"
        },
        "id": "4rtcBfhLKxFg",
        "outputId": "3cba364e-883c-4c9d-deae-20d0d4f47df5"
      },
      "execution_count": null,
      "outputs": [
        {
          "output_type": "stream",
          "name": "stdout",
          "text": [
            "{2: 3, 3: 4}\n",
            "{2: 3}\n"
          ]
        }
      ]
    },
    {
      "cell_type": "markdown",
      "source": [
        "Implement a program that counts the number of occurrences of each word in a sentence and stores the result in a dictionary."
      ],
      "metadata": {
        "id": "gJCFLTbcjNMF"
      }
    },
    {
      "cell_type": "code",
      "source": [
        "str1 = \"hello shoaib how are you hello\"\n",
        "\n",
        "list1 = str1.split(\" \")\n",
        "\n",
        "print(list1)\n",
        "\n",
        "dict_count ={}\n",
        "\n",
        "for i in list1:\n",
        "  if i in dict_count.keys():\n",
        "    dict_count[i]=1+1\n",
        "  else:\n",
        "    dict_count[i]=1\n",
        "\n",
        "\n",
        "print(dict_count)"
      ],
      "metadata": {
        "colab": {
          "base_uri": "https://localhost:8080/"
        },
        "id": "jCQfo0yTe4Js",
        "outputId": "4c8ca9dc-5ea6-469f-8df5-31ae4eb7362e"
      },
      "execution_count": null,
      "outputs": [
        {
          "output_type": "stream",
          "name": "stdout",
          "text": [
            "['hello', 'shoaib', 'how', 'are', 'you', 'hello']\n",
            "{'hello': 2, 'shoaib': 1, 'how': 1, 'are': 1, 'you': 1}\n"
          ]
        }
      ]
    },
    {
      "cell_type": "markdown",
      "source": [
        "#Advanced Dictionary Operations"
      ],
      "metadata": {
        "id": "SUHeCBEClUsR"
      }
    },
    {
      "cell_type": "markdown",
      "source": [
        "Write a program that takes two dictionaries and creates a new dictionary by combining them. The keys of the new dictionary should be a union of the keys from both dictionaries. If the same key is present in both, store their values as a list."
      ],
      "metadata": {
        "id": "TGEQx69WlW4p"
      }
    },
    {
      "cell_type": "code",
      "source": [
        "# Union meaning taking Unique keys that are not present in 2 diff dict\n",
        "\n",
        "dict1 = {1:20, 3:30, 4:40}\n",
        "dict2 = {2:20, 3:30, 4:40}\n",
        "dict3 ={}\n",
        "\n",
        "for key, value in dict1.items():\n",
        "  if key in dict2.keys():\n",
        "    dict3[key]=[value,dict2[key]]\n",
        "  else:\n",
        "    dict3[key]=value\n",
        "\n",
        "print(dict3)\n",
        "\n",
        "# mistake i was making was to put the value of dict2 i was writing\n",
        "# dict[value] actually we access values through keys\n",
        "#dict[key] like this\n"
      ],
      "metadata": {
        "colab": {
          "base_uri": "https://localhost:8080/"
        },
        "id": "XHDHCc2ilP_5",
        "outputId": "b9396070-d412-4f18-dff4-bbdc1bfb87de"
      },
      "execution_count": null,
      "outputs": [
        {
          "output_type": "stream",
          "name": "stdout",
          "text": [
            "{1: 20, 3: [30, 30], 4: [40, 40]}\n"
          ]
        }
      ]
    },
    {
      "cell_type": "markdown",
      "source": [
        "Write a function that sorts a dictionary by its values in descending order and returns the sorted dictionary."
      ],
      "metadata": {
        "id": "hUIwiNMctziA"
      }
    },
    {
      "cell_type": "code",
      "source": [
        "dict_us = {1:4,2:2,3:7,4:5}\n",
        "\n",
        "dict_s = {}\n",
        "\n",
        "max = 0\n",
        "\n",
        "sorted_l = []\n",
        "\n",
        "temp = 0\n",
        "\n",
        "for i in dict_us:\n",
        "  sorted_l.append(dict_us[i])\n",
        "\n",
        "for i in range(0,len(sorted_l)-1):\n",
        "  if sorted_l[i]>sorted_l[i+1]:\n",
        "    temp = sorted_l[i]\n",
        "    sorted_l[i]=sorted_l[i+1]\n",
        "    sorted_l[i+1]=temp\n",
        "\n",
        "print(sorted_l)\n",
        "\n",
        "keys = list(dict_us.keys())\n",
        "for i in range(len(keys)):\n",
        "  dict_s[keys[i]]=sorted_l[i]\n",
        "\n",
        "print(dict_s)\n",
        "\n",
        "\n",
        "\n",
        "\n",
        "\n",
        "\n"
      ],
      "metadata": {
        "colab": {
          "base_uri": "https://localhost:8080/"
        },
        "id": "mT6DInwStiQ0",
        "outputId": "90df72eb-db2f-42a9-deea-dd66a60a419d"
      },
      "execution_count": null,
      "outputs": [
        {
          "output_type": "stream",
          "name": "stdout",
          "text": [
            "[2, 4, 5, 7]\n",
            "{1: 2, 2: 4, 3: 5, 4: 7}\n"
          ]
        }
      ]
    },
    {
      "cell_type": "markdown",
      "source": [
        "#Real-World Applications"
      ],
      "metadata": {
        "id": "smkh-4u1Dsk1"
      }
    },
    {
      "cell_type": "markdown",
      "source": [
        "Create a dictionary that maps product names to their prices in a grocery store. Write a function that accepts the dictionary and a product name, then returns the product's price or \"Product not found\" if the product isn't available."
      ],
      "metadata": {
        "id": "FHG3bG6ZDvpd"
      }
    },
    {
      "cell_type": "code",
      "source": [
        "store = {'Palak':12,'milk':28,'bread':20,'tomato':40}\n",
        "\n",
        "# read the question caefullty about the function\n",
        "\n",
        "def get_price(dict1,product_name):\n",
        "  if product_name in dict1:\n",
        "    print(product_name ,\" \",dict1[product_name])\n",
        "  else:\n",
        "    print(\"not in dictonary\")\n",
        "\n",
        "get_price(store,'Palak')\n"
      ],
      "metadata": {
        "colab": {
          "base_uri": "https://localhost:8080/"
        },
        "id": "-3gV5sr4BKl9",
        "outputId": "b3ddca5e-28bf-4b5d-a682-db642043244d"
      },
      "execution_count": null,
      "outputs": [
        {
          "output_type": "stream",
          "name": "stdout",
          "text": [
            "Palak   12\n"
          ]
        }
      ]
    },
    {
      "cell_type": "markdown",
      "source": [
        "Write a Python program that manages an inventory system. It should allow the user to add products, update quantities, and display the current inventory status."
      ],
      "metadata": {
        "id": "-Vud_gdQGNmB"
      }
    },
    {
      "cell_type": "code",
      "source": [
        "inventory = {}\n",
        "num2=4\n",
        "\n",
        "\n",
        "def add1():\n",
        "  in_name = input(\"Enter Inventory Name : \")\n",
        "  in_quan = int(input(\"Enter Inventory Quantity : \"))\n",
        "\n",
        "  inventory[in_name]=in_quan\n",
        "\n",
        "def update_quan():\n",
        "  up_quan_name = input(\"Enter the product name you want to update : \")\n",
        "  up_quan = int(input(\"Enter the new quantity : \"))\n",
        "\n",
        "  if up_quan_name in inventory:\n",
        "    inventory[up_quan_name]=up_quan\n",
        "  else:\n",
        "    print(\"Product Name not Found\")\n",
        "\n",
        "def display1():\n",
        "  print(\"Status -> \\n\")\n",
        "  print(\"  No. of items : \",len(inventory.keys()))\n",
        "  print(\" ITEMS   |   Quantity\\n\")\n",
        "  for i,j in inventory.items():\n",
        "   print(\"\",i,\"  |\",\" \",j,\" \" )\n",
        "\n",
        "\n",
        "\n",
        "def all1():\n",
        "  while True:\n",
        "    num2 =int(input(\"Enter 1 - Add | Enter 2 - UPDATE | Enter 3 - View | Enter 0 - EXIT\\n\"))\n",
        "\n",
        "    if num2==1:\n",
        "      add1()\n",
        "    elif num2==2:\n",
        "      update_quan()\n",
        "    elif num2==3:\n",
        "      display1()\n",
        "    elif num2 == 0:\n",
        "      break\n",
        "\n",
        "\n",
        "all1()\n",
        "\n",
        "\n",
        "\n",
        "\n"
      ],
      "metadata": {
        "colab": {
          "base_uri": "https://localhost:8080/"
        },
        "id": "dXZOw6XWE2EQ",
        "outputId": "9db4033e-2c79-48d9-e13f-35c3e3c1eaa9"
      },
      "execution_count": null,
      "outputs": [
        {
          "name": "stdout",
          "output_type": "stream",
          "text": [
            "Enter 1 - Add | Enter 2 - UPDATE | Enter 3 - View | Enter 0 - EXIT\n",
            "1\n",
            "Enter Inventory Name : Table\n",
            "Enter Inventory Quantity : 3\n",
            "Enter 1 - Add | Enter 2 - UPDATE | Enter 3 - View | Enter 0 - EXIT\n",
            "2\n",
            "Enter the product name you want to update : Table\n",
            "Enter the new quantity : 5\n",
            "Enter 1 - Add | Enter 2 - UPDATE | Enter 3 - View | Enter 0 - EXIT\n",
            "3\n",
            "Status -> \n",
            "\n",
            "  No. of items :  1\n",
            " ITEMS   |   Quantity\n",
            "\n",
            " Table   |   5  \n",
            "Enter 1 - Add | Enter 2 - UPDATE | Enter 3 - View | Enter 0 - EXIT\n",
            "0\n"
          ]
        }
      ]
    },
    {
      "cell_type": "markdown",
      "source": [
        "Create a program that uses a dictionary to represent a simple phonebook. The program should allow the user to add new contacts, search for contacts by name, and delete contacts."
      ],
      "metadata": {
        "id": "tvHZIsigPrhr"
      }
    },
    {
      "cell_type": "code",
      "source": [
        "phone = {}\n",
        "\n",
        "def add_contact():\n",
        "  name = input(\"Enter Name : \\n\")\n",
        "  number = int(input(\"Enter Number : \\n\"))\n",
        "\n",
        "  phone[name]=number\n",
        "\n",
        "  print(\"Contact Added\")\n",
        "\n",
        "def search_con():\n",
        "\n",
        "  name = input(\"Enter Name : \\n\")\n",
        "\n",
        "  if name in phone:\n",
        "    print(phone[name],\"\\n\")\n",
        "  else:\n",
        "    print(\"not found\")\n",
        "\n",
        "\n",
        "def delete1():\n",
        "  name = input(\"Enter Name : \\n\")\n",
        "  del phone[name]\n",
        "  print(\"Contact DEleted\")\n",
        "\n",
        "val = 4\n",
        "\n",
        "while True:\n",
        "\n",
        "  val =int(input(\"Enter 1 - Add | Enter 2 - Search | Enter 3 - Delete | Enter 0 - EXIT\\n\"))\n",
        "\n",
        "  if val == 1:\n",
        "    add_contact()\n",
        "  elif val == 2:\n",
        "    search_con()\n",
        "  elif val == 3:\n",
        "    delete1()\n",
        "  elif val == 0:\n",
        "    break\n",
        "\n",
        "\n",
        "\n",
        "\n",
        "\n"
      ],
      "metadata": {
        "id": "5TU2vb7kHCMR",
        "colab": {
          "base_uri": "https://localhost:8080/"
        },
        "outputId": "038d50d9-98b2-4bc2-d8f3-7c57e71728cd"
      },
      "execution_count": null,
      "outputs": [
        {
          "name": "stdout",
          "output_type": "stream",
          "text": [
            "Enter 1 - Add | Enter 2 - Search | Enter 3 - Delete | Enter 0 - EXIT\n",
            "1\n",
            "Enter Name : \n",
            "Shoaib\n",
            "Enter Number : \n",
            "1234567890\n",
            "Contact Added\n",
            "Enter 1 - Add | Enter 2 - Search | Enter 3 - Delete | Enter 0 - EXIT\n",
            "1\n",
            "Enter Name : \n",
            "Azhaf\n",
            "Enter Number : \n",
            "0987654321\n",
            "Contact Added\n",
            "Enter 1 - Add | Enter 2 - Search | Enter 3 - Delete | Enter 0 - EXIT\n",
            "2\n",
            "Enter Name : \n",
            "Azhaf\n",
            "987654321 \n",
            "\n",
            "Enter 1 - Add | Enter 2 - Search | Enter 3 - Delete | Enter 0 - EXIT\n",
            "3\n",
            "Enter Name : \n",
            "Azhaf\n",
            "Contact DEleted\n",
            "Enter 1 - Add | Enter 2 - Search | Enter 3 - Delete | Enter 0 - EXIT\n",
            "0\n"
          ]
        }
      ]
    },
    {
      "cell_type": "code",
      "source": [],
      "metadata": {
        "id": "LnTPOlUFPuiT"
      },
      "execution_count": null,
      "outputs": []
    }
  ]
}