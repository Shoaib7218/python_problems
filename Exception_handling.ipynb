{
  "nbformat": 4,
  "nbformat_minor": 0,
  "metadata": {
    "colab": {
      "provenance": [],
      "authorship_tag": "ABX9TyMz3FZlPzFnJh4atySVrkgU",
      "include_colab_link": true
    },
    "kernelspec": {
      "name": "python3",
      "display_name": "Python 3"
    },
    "language_info": {
      "name": "python"
    }
  },
  "cells": [
    {
      "cell_type": "markdown",
      "metadata": {
        "id": "view-in-github",
        "colab_type": "text"
      },
      "source": [
        "<a href=\"https://colab.research.google.com/github/Shoaib7218/python_problems/blob/main/Exception_handling.ipynb\" target=\"_parent\"><img src=\"https://colab.research.google.com/assets/colab-badge.svg\" alt=\"Open In Colab\"/></a>"
      ]
    },
    {
      "cell_type": "markdown",
      "source": [
        "#What is Exception Handling in Python?\n",
        "* Exception handling in Python is a mechanism to handle runtime errors, ensuring that your program can handle unexpected conditions gracefully without crashing. It allows you to catch and respond to exceptions (unexpected errors) that occur during the execution of your program.\n",
        "\n",
        "* Why is Exception Handling Used?\n",
        "* Exception handling is crucial for:\n",
        "\n",
        "* Preventing crashes: Handling exceptions avoids the abrupt termination of a program, improving robustness.\n",
        "* Graceful recovery: You can provide alternative solutions or retry logic when an error occurs.\n",
        "* Error logging: Capture error details for debugging and investigation.\n",
        "* Maintaining code flow: Ensures that errors do not stop the rest of the program from executing."
      ],
      "metadata": {
        "id": "7747CTm0ireZ"
      }
    },
    {
      "cell_type": "code",
      "execution_count": 4,
      "metadata": {
        "colab": {
          "base_uri": "https://localhost:8080/"
        },
        "id": "DKuCt9SThXlZ",
        "outputId": "d11483cb-734d-4ebe-b1c0-c8e8161d2179"
      },
      "outputs": [
        {
          "output_type": "stream",
          "name": "stdout",
          "text": [
            "Not allowed\n"
          ]
        }
      ],
      "source": [
        "try:\n",
        "  result=10/0\n",
        "  print(result)\n",
        "except ZeroDivisionError:\n",
        "  print(\"Not allowed\")\n"
      ]
    },
    {
      "cell_type": "markdown",
      "source": [
        "#Multiple except blocks"
      ],
      "metadata": {
        "id": "cEldTAktjjvh"
      }
    },
    {
      "cell_type": "markdown",
      "source": [
        "A ValueError in Python occurs when a function receives an argument of the correct type but an inappropriate value."
      ],
      "metadata": {
        "id": "Z3tR4RuekPiC"
      }
    },
    {
      "cell_type": "markdown",
      "source": [
        "In multiple except blocks only one exception is raised and the other code of line is never been executed because the exception has been already raised"
      ],
      "metadata": {
        "id": "nGgN7XRplU0C"
      }
    },
    {
      "cell_type": "code",
      "source": [
        "try:\n",
        "  result = 10/0\n",
        "  print(result)\n",
        "  re = int(\"Shoaib\") #this line is never been excecuted because the exception has been already raised\n",
        "  print(re)\n",
        "except ZeroDivisionError:\n",
        "  print(\"ZeroDivision\")\n",
        "except ValueError:\n",
        "  print(\"ValueError\")"
      ],
      "metadata": {
        "colab": {
          "base_uri": "https://localhost:8080/"
        },
        "id": "pp5fwRayjedR",
        "outputId": "ae45dd67-4958-476b-ff9a-78ab6202578b"
      },
      "execution_count": 7,
      "outputs": [
        {
          "output_type": "stream",
          "name": "stdout",
          "text": [
            "ZeroDivision\n"
          ]
        }
      ]
    },
    {
      "cell_type": "markdown",
      "source": [
        "Catching multiple exceptions in one block"
      ],
      "metadata": {
        "id": "x_qtenPslw3q"
      }
    },
    {
      "cell_type": "code",
      "source": [
        "try:\n",
        "  result =10/0\n",
        "  print(\"hello\") # this line will never execute because the exception is bieng handled\n",
        "  re = int(\"abc\")\n",
        "except(ZeroDivisionError,ValueError):\n",
        "  print(\"One of them is called.\")\n"
      ],
      "metadata": {
        "colab": {
          "base_uri": "https://localhost:8080/"
        },
        "id": "BKWW4aMXlwOf",
        "outputId": "1c83ae90-24c6-40b1-f26a-a38715b7d1de"
      },
      "execution_count": 10,
      "outputs": [
        {
          "output_type": "stream",
          "name": "stdout",
          "text": [
            "One of them is called.\n"
          ]
        }
      ]
    },
    {
      "cell_type": "markdown",
      "source": [
        "We can try this...."
      ],
      "metadata": {
        "id": "nujIDELXlp0Z"
      }
    },
    {
      "cell_type": "code",
      "source": [
        "try:\n",
        "    result = 10 / 0  # Raises ZeroDivisionError\n",
        "except ZeroDivisionError:\n",
        "    print(\"Handled ZeroDivisionError.\")\n",
        "\n",
        "try:\n",
        "    result = int(\"abc\")  # Raises ValueError\n",
        "except ValueError:\n",
        "    print(\"Handled ValueError.\")\n"
      ],
      "metadata": {
        "colab": {
          "base_uri": "https://localhost:8080/"
        },
        "id": "DHrDZzxtljlm",
        "outputId": "074ba808-615e-49c7-ae14-090643013c0c"
      },
      "execution_count": 8,
      "outputs": [
        {
          "output_type": "stream",
          "name": "stdout",
          "text": [
            "Handled ZeroDivisionError.\n",
            "Handled ValueError.\n"
          ]
        }
      ]
    },
    {
      "cell_type": "markdown",
      "source": [
        "#else block\n",
        "The else block executes if no exceptions are raised in the try block:"
      ],
      "metadata": {
        "id": "ypUuCx8JmY3x"
      }
    },
    {
      "cell_type": "code",
      "source": [
        "try:\n",
        "  result = 10/2\n",
        "except ZeroDivisionError:\n",
        "  print(\"No error raised\")\n",
        "else:\n",
        "  print(\"No error raised-else block\")"
      ],
      "metadata": {
        "colab": {
          "base_uri": "https://localhost:8080/"
        },
        "id": "owGLlffoltTI",
        "outputId": "9f7d4545-9b00-43ee-e261-e1a9491ebd30"
      },
      "execution_count": 11,
      "outputs": [
        {
          "output_type": "stream",
          "name": "stdout",
          "text": [
            "No error raised-else block\n"
          ]
        }
      ]
    },
    {
      "cell_type": "markdown",
      "source": [
        "#finally block\n",
        "The finally block executes regardless of whether an exception was raised or not. It is often used for cleanup actions (e.g., closing a file, releasing resources)."
      ],
      "metadata": {
        "id": "1MNClD-Amrj3"
      }
    },
    {
      "cell_type": "code",
      "source": [
        "try:\n",
        "  result = 10/0\n",
        "  print(result)\n",
        "except ZeroDivisionError:\n",
        "  print(\"Error Raised\")\n",
        "finally:\n",
        "  print(\"This will execute whatever happens ! \")\n",
        "  print(1+2)"
      ],
      "metadata": {
        "colab": {
          "base_uri": "https://localhost:8080/"
        },
        "id": "1DzK5-_rmmfc",
        "outputId": "439e36f0-d259-4a01-c3b6-4b5d4e49fd47"
      },
      "execution_count": 12,
      "outputs": [
        {
          "output_type": "stream",
          "name": "stdout",
          "text": [
            "Error Raised\n",
            "This will execute whatever happens ! \n",
            "3\n"
          ]
        }
      ]
    },
    {
      "cell_type": "markdown",
      "source": [
        "Printing Default print of pre defined errors"
      ],
      "metadata": {
        "id": "PTi6dBA5nRvx"
      }
    },
    {
      "cell_type": "code",
      "source": [
        "try:\n",
        "  re = int(\"abc\")\n",
        "  print(re)\n",
        "except ValueError as ze:\n",
        "  print(ze)"
      ],
      "metadata": {
        "colab": {
          "base_uri": "https://localhost:8080/"
        },
        "id": "7_if-HIEnWGH",
        "outputId": "585eb207-a5bf-49eb-941d-3eca71938646"
      },
      "execution_count": 14,
      "outputs": [
        {
          "output_type": "stream",
          "name": "stdout",
          "text": [
            "invalid literal for int() with base 10: 'abc'\n"
          ]
        }
      ]
    },
    {
      "cell_type": "markdown",
      "source": [
        "#Raising Exceptions Manually\n",
        "Sometimes, you might want to manually raise an exception using the raise keyword."
      ],
      "metadata": {
        "id": "98QZcmcAn1Pn"
      }
    },
    {
      "cell_type": "code",
      "source": [
        "def check_age(x):\n",
        "  if x<0:\n",
        "    print(x)\n",
        "    raise ValueError(\"Age cannot be smaller than Zero\")\n",
        "  else:\n",
        "    print(x)\n",
        "# check_age(-1) #this will terminate the program\n",
        "try:\n",
        "  check_age(-1)\n",
        "except ValueError as e:\n",
        "  print(e)"
      ],
      "metadata": {
        "colab": {
          "base_uri": "https://localhost:8080/"
        },
        "id": "vo1nwAKFn3P4",
        "outputId": "af0a2312-6ebd-438a-afed-48a112285b58"
      },
      "execution_count": 21,
      "outputs": [
        {
          "output_type": "stream",
          "name": "stdout",
          "text": [
            "-1\n",
            "Age cannot be smaller than Zero\n"
          ]
        }
      ]
    },
    {
      "cell_type": "markdown",
      "source": [
        "#Handling Exceptions with Custom Classes\n",
        "You can create custom exceptions by subclassing the built-in Exception class."
      ],
      "metadata": {
        "id": "-BHaZUj_pXgA"
      }
    },
    {
      "cell_type": "code",
      "source": [
        "class invaliderror(Exception):\n",
        "  pass\n",
        "\n",
        "def check(x):\n",
        "  if x > 90:\n",
        "    raise invaliderror(\"not at this age !\")\n",
        "  else:\n",
        "    print(x)\n",
        "\n",
        "try:\n",
        "  check(93)\n",
        "except invaliderror as e:\n",
        "  print(e)"
      ],
      "metadata": {
        "colab": {
          "base_uri": "https://localhost:8080/"
        },
        "id": "qIRGfix-pFWb",
        "outputId": "fe4c7393-1928-4978-8155-4bfd46281044"
      },
      "execution_count": 24,
      "outputs": [
        {
          "output_type": "stream",
          "name": "stdout",
          "text": [
            "not at this age !\n"
          ]
        }
      ]
    },
    {
      "cell_type": "markdown",
      "source": [
        "#Adding More Information to the Custom Exception"
      ],
      "metadata": {
        "id": "za7iwpbBtjZk"
      }
    },
    {
      "cell_type": "code",
      "source": [
        "class temperror(Exception):\n",
        "  def __init__(self,temp,msg=\"Not this high !\"):\n",
        "    self.temperature = temp\n",
        "    self.message = msg\n",
        "    super().__init__(self.message)\n",
        "\n",
        "def check_temp(temp):\n",
        "  if temp >300 :\n",
        "    raise temperror(temp)\n",
        "  else:\n",
        "    print(temp)\n",
        "\n",
        "try:\n",
        "  check_temp(301)\n",
        "except temperror as t:\n",
        "  print(t)"
      ],
      "metadata": {
        "colab": {
          "base_uri": "https://localhost:8080/"
        },
        "id": "wvTcp0JWtfaF",
        "outputId": "27789d89-f416-4ae6-83ea-46fa1284a6ce"
      },
      "execution_count": 27,
      "outputs": [
        {
          "output_type": "stream",
          "name": "stdout",
          "text": [
            "Not this high !\n"
          ]
        }
      ]
    },
    {
      "cell_type": "code",
      "source": [
        "class vlaueerror(Exception):\n",
        "  def __init__(self,val,msg=\"Wrong Value Shoaib !\"):\n",
        "    self.val = val\n",
        "    self.msg = msg\n",
        "    # super().__init__(self.msg)\n",
        "\n",
        "def checkval(val):\n",
        "  if val >11:\n",
        "    raise vlaueerror(val)\n",
        "  else:\n",
        "    print(val)\n",
        "\n",
        "try:\n",
        "  checkval(12)\n",
        "except vlaueerror as v:\n",
        "  print(v.msg) #when super class is not called we can print this way"
      ],
      "metadata": {
        "colab": {
          "base_uri": "https://localhost:8080/"
        },
        "id": "_lXhpajuJrrw",
        "outputId": "c1eb8032-a3db-4f25-9026-6d5d8c03f729"
      },
      "execution_count": 8,
      "outputs": [
        {
          "output_type": "stream",
          "name": "stdout",
          "text": [
            "Wrong Value Shoaib !\n"
          ]
        }
      ]
    },
    {
      "cell_type": "code",
      "source": [],
      "metadata": {
        "id": "yFjPT2uoJ2SY"
      },
      "execution_count": null,
      "outputs": []
    }
  ]
}