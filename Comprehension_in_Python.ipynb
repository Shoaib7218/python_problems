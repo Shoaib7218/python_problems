{
  "nbformat": 4,
  "nbformat_minor": 0,
  "metadata": {
    "colab": {
      "provenance": [],
      "authorship_tag": "ABX9TyNcepQLewt//oQcDysiF1wx",
      "include_colab_link": true
    },
    "kernelspec": {
      "name": "python3",
      "display_name": "Python 3"
    },
    "language_info": {
      "name": "python"
    }
  },
  "cells": [
    {
      "cell_type": "markdown",
      "metadata": {
        "id": "view-in-github",
        "colab_type": "text"
      },
      "source": [
        "<a href=\"https://colab.research.google.com/github/Shoaib7218/python_problems/blob/main/Comprehension_in_Python.ipynb\" target=\"_parent\"><img src=\"https://colab.research.google.com/assets/colab-badge.svg\" alt=\"Open In Colab\"/></a>"
      ]
    },
    {
      "cell_type": "markdown",
      "source": [
        "\n",
        "#List Comprehensions\n",
        "\n",
        "\n"
      ],
      "metadata": {
        "id": "JllZJE85dwsE"
      }
    },
    {
      "cell_type": "markdown",
      "source": [
        "Syntax/Format:"
      ],
      "metadata": {
        "id": "tkTzZWnLd5YD"
      }
    },
    {
      "cell_type": "markdown",
      "source": [
        "[expression for item in iterable]"
      ],
      "metadata": {
        "id": "No8p-1old8lg"
      }
    },
    {
      "cell_type": "code",
      "execution_count": 4,
      "metadata": {
        "colab": {
          "base_uri": "https://localhost:8080/"
        },
        "id": "cV7JhMUWdbJk",
        "outputId": "f20420fb-29ee-478f-c661-13091938c8cf"
      },
      "outputs": [
        {
          "output_type": "stream",
          "name": "stdout",
          "text": [
            "[0, 1, 2, 3, 4, 5, 6, 7, 8, 9, 10]\n"
          ]
        }
      ],
      "source": [
        "l1= [n for n in range(0,10+1)]\n",
        "print(l1)"
      ]
    },
    {
      "cell_type": "code",
      "source": [
        "dict1 = {x for x in range(1,10)}\n",
        "print(dict1)"
      ],
      "metadata": {
        "colab": {
          "base_uri": "https://localhost:8080/"
        },
        "id": "1RHEKLFReWuL",
        "outputId": "8932e9da-5ba6-4382-d289-1ee0e7186302"
      },
      "execution_count": 6,
      "outputs": [
        {
          "output_type": "stream",
          "name": "stdout",
          "text": [
            "{1, 2, 3, 4, 5, 6, 7, 8, 9}\n"
          ]
        }
      ]
    },
    {
      "cell_type": "markdown",
      "source": [
        "Dictionary"
      ],
      "metadata": {
        "id": "5lhtuQUpf6GR"
      }
    },
    {
      "cell_type": "code",
      "source": [
        "dict2 = {x:x**2 for x in range(1,10) }\n",
        "print(dict2)"
      ],
      "metadata": {
        "colab": {
          "base_uri": "https://localhost:8080/"
        },
        "id": "qMHqlO1XfKwv",
        "outputId": "95eb1c6e-b255-4a40-d5ac-073780318e41"
      },
      "execution_count": 9,
      "outputs": [
        {
          "output_type": "stream",
          "name": "stdout",
          "text": [
            "{1: 1, 2: 4, 3: 9, 4: 16, 5: 25, 6: 36, 7: 49, 8: 64, 9: 81}\n"
          ]
        }
      ]
    },
    {
      "cell_type": "markdown",
      "source": [
        "Tuple"
      ],
      "metadata": {
        "id": "S6hyNYD4f7xe"
      }
    },
    {
      "cell_type": "code",
      "source": [
        "t1 = tuple((x,y) for x in range(0,2) for y in range(0,2) )\n",
        "print(t1)"
      ],
      "metadata": {
        "colab": {
          "base_uri": "https://localhost:8080/"
        },
        "id": "tWP1D7YcfPsw",
        "outputId": "70880b8a-1bbb-4c83-c0ad-176087fdf76e"
      },
      "execution_count": 2,
      "outputs": [
        {
          "output_type": "stream",
          "name": "stdout",
          "text": [
            "((0, 0), (0, 1), (1, 0), (1, 1))\n"
          ]
        }
      ]
    },
    {
      "cell_type": "markdown",
      "source": [
        "1. Create a list of squares (Basic)\n",
        "Generate a list of squares for numbers from 1 to 10 using list comprehension."
      ],
      "metadata": {
        "id": "vbfWASQG0wOy"
      }
    },
    {
      "cell_type": "code",
      "source": [
        "square = [x**2 for x in range(1,11)]\n",
        "print(square)"
      ],
      "metadata": {
        "colab": {
          "base_uri": "https://localhost:8080/"
        },
        "id": "GxZg99ZI0m7E",
        "outputId": "b1fff386-0efc-4ac1-c19e-ba52647bde6c"
      },
      "execution_count": 3,
      "outputs": [
        {
          "output_type": "stream",
          "name": "stdout",
          "text": [
            "[1, 4, 9, 16, 25, 36, 49, 64, 81, 100]\n"
          ]
        }
      ]
    },
    {
      "cell_type": "markdown",
      "source": [
        "Filter even numbers (Basic)\n",
        "Create a list of only the even numbers from 1 to 20 using list comprehension."
      ],
      "metadata": {
        "id": "OlXlPrWp_JWL"
      }
    },
    {
      "cell_type": "code",
      "source": [
        "even = list([n for n in range(1,21) if n%2==0])\n",
        "print(even)"
      ],
      "metadata": {
        "colab": {
          "base_uri": "https://localhost:8080/"
        },
        "id": "cjfSPY0w_Iyd",
        "outputId": "cb01f1f6-3f8a-47b8-df78-f635a7356a37"
      },
      "execution_count": 7,
      "outputs": [
        {
          "output_type": "stream",
          "name": "stdout",
          "text": [
            "[1, 0, 1, 0, 1, 0, 1, 0, 1, 0, 1, 0, 1, 0, 1, 0, 1, 0, 1, 0]\n"
          ]
        }
      ]
    },
    {
      "cell_type": "markdown",
      "source": [
        "Apply if-else conditions (Intermediate)\n",
        "Create a list where for numbers 1 to 10, it stores \"even\" for even numbers and \"odd\" for odd numbers."
      ],
      "metadata": {
        "id": "ykThuqId_Weo"
      }
    },
    {
      "cell_type": "code",
      "source": [
        "even_odd = ['even' if n%2==0 else 'odd' for n in range(1,11)] # first Expression Then for Item in logic\n",
        "print(even_odd)"
      ],
      "metadata": {
        "colab": {
          "base_uri": "https://localhost:8080/"
        },
        "id": "MizTaKGF_VwP",
        "outputId": "b3344873-cf68-4edc-fb9f-c6b74616c1d3"
      },
      "execution_count": 11,
      "outputs": [
        {
          "output_type": "stream",
          "name": "stdout",
          "text": [
            "['odd', 'even', 'odd', 'even', 'odd', 'even', 'odd', 'even', 'odd', 'even']\n"
          ]
        }
      ]
    },
    {
      "cell_type": "code",
      "source": [
        "l2d = [[1,2],[3,4]]\n",
        "flatten = [l2d[i][j] for i in range(len(l2d[0])) for j in range(len(l2d[1]))]\n",
        "print(flatten)"
      ],
      "metadata": {
        "colab": {
          "base_uri": "https://localhost:8080/"
        },
        "id": "wytvWwsgBRtB",
        "outputId": "2db1a942-574a-4dd1-84a9-2499df1d807c"
      },
      "execution_count": 13,
      "outputs": [
        {
          "output_type": "stream",
          "name": "stdout",
          "text": [
            "[1, 2, 3, 4]\n"
          ]
        }
      ]
    },
    {
      "cell_type": "markdown",
      "source": [
        "Cartesian product of two lists (Advanced)\n",
        "Using two lists A = [1, 2, 3] and B = ['a', 'b', 'c'], create a list of tuples representing the Cartesian product of A and B."
      ],
      "metadata": {
        "id": "vcR3lraUCUl8"
      }
    },
    {
      "cell_type": "code",
      "source": [
        "A = [1, 2, 3]\n",
        "B = ['a', 'b', 'c']\n",
        "\n",
        "cartesian = [(a,b) for a in A for b in B]\n",
        "print(cartesian)"
      ],
      "metadata": {
        "colab": {
          "base_uri": "https://localhost:8080/"
        },
        "id": "TFj5ThHdB0_0",
        "outputId": "ff489b5e-82d2-446f-d7cf-e47407d2531b"
      },
      "execution_count": 16,
      "outputs": [
        {
          "output_type": "stream",
          "name": "stdout",
          "text": [
            "[(1, 'a'), (1, 'b'), (1, 'c'), (2, 'a'), (2, 'b'), (2, 'c'), (3, 'a'), (3, 'b'), (3, 'c')]\n"
          ]
        }
      ]
    },
    {
      "cell_type": "markdown",
      "source": [
        "Nested list comprehension with condition (Advanced)\n",
        "Given a list of numbers, create a list of tuples (x, y) such that both x and y are between 1 and 5, but only include pairs where the sum of x + y is even."
      ],
      "metadata": {
        "id": "Bb6hLMXJCWKr"
      }
    },
    {
      "cell_type": "code",
      "source": [
        "advance = [(x,y)  for x in range(1,6) for y in range(1,6) if (x+y)%2 == 0]\n",
        "print(advance)"
      ],
      "metadata": {
        "colab": {
          "base_uri": "https://localhost:8080/"
        },
        "id": "ETgm46ngCZh5",
        "outputId": "c817efdb-8021-4f60-b48d-57c80e69f75a"
      },
      "execution_count": 28,
      "outputs": [
        {
          "output_type": "stream",
          "name": "stdout",
          "text": [
            "[(1, 1), (1, 3), (1, 5), (2, 2), (2, 4), (3, 1), (3, 3), (3, 5), (4, 2), (4, 4), (5, 1), (5, 3), (5, 5)]\n"
          ]
        }
      ]
    },
    {
      "cell_type": "markdown",
      "source": [
        "filter function using lambda"
      ],
      "metadata": {
        "id": "LGLo_rCRWEym"
      }
    },
    {
      "cell_type": "markdown",
      "source": [
        "Why is = not allowed in lambda functions?\n",
        "In Python, assignment (=) is a statement, not an expression, and lambda functions are only allowed to contain expressions. Therefore, you cannot assign values using = inside a lambda function."
      ],
      "metadata": {
        "id": "Dinn-K3SZYVa"
      }
    },
    {
      "cell_type": "code",
      "source": [
        "l1 = [1,2,3,4,5]\n",
        "\n",
        "# y = filter(lambda x: if x%2!=0,l1) do not use if else statements Thier work is filter\n",
        "y = filter(lambda x : x%2!=0,l1)\n",
        "\n",
        "print(list(y))\n",
        "\n",
        "#MAP Function\n",
        "\n",
        "u = map(lambda x : x%2==0,l1) # The difference between map and filter is that filter is used to iterate over a \"condition\"\n",
        "\n",
        "print(list(u))\n",
        "\n",
        "u = map(lambda x : x**2,l1) # Basically used for manipulation\n",
        "\n",
        "print(list(u))\n",
        "\n",
        "# REDUCE\n",
        "import functools\n",
        "\n",
        "w = functools.reduce(lambda x,y : x+y,l1) #Reduces Iterable Objects into Cumulative single value\n",
        "# MAdantory  to put 2 args\n",
        "print(w)\n"
      ],
      "metadata": {
        "colab": {
          "base_uri": "https://localhost:8080/"
        },
        "id": "HKoji4uLGEca",
        "outputId": "589bace6-2072-4d8d-a825-33604cf2e4bb"
      },
      "execution_count": 7,
      "outputs": [
        {
          "output_type": "stream",
          "name": "stdout",
          "text": [
            "[1, 3, 5]\n",
            "[False, True, False, True, False]\n",
            "[1, 4, 9, 16, 25]\n",
            "15\n"
          ]
        }
      ]
    }
  ]
}